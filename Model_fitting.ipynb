{
  "nbformat": 4,
  "nbformat_minor": 0,
  "metadata": {
    "colab": {
      "provenance": [],
      "collapsed_sections": [
        "Y3POJ-AEFc6d",
        "UX1dJM2Ipyjl",
        "gjb5ilxjqAul",
        "CX7jFdgIqQPu",
        "Dz_MRPpYr6YP",
        "y0E5EaPAsx0m",
        "GtThegRi6c_I",
        "DGs83DpB6lvC",
        "6tzIhLhl6rTq",
        "I5Efpk_U64Ix",
        "ygcPg4vN7EC0"
      ],
      "gpuType": "T4"
    },
    "kernelspec": {
      "name": "python3",
      "display_name": "Python 3"
    },
    "language_info": {
      "name": "python"
    },
    "accelerator": "GPU"
  },
  "cells": [
    {
      "cell_type": "code",
      "execution_count": 1,
      "metadata": {
        "id": "yRZya8k7CM__"
      },
      "outputs": [],
      "source": [
        "import torch, pandas as pd, numpy as np, warnings\n",
        "from matplotlib import pyplot as plt\n",
        "from sklearn.ensemble import RandomForestClassifier\n",
        "from sklearn.preprocessing import StandardScaler\n",
        "from sklearn.linear_model import LinearRegression, LogisticRegression, Ridge, Lasso\n",
        "from sklearn.metrics import mean_squared_error, roc_curve, roc_auc_score, RocCurveDisplay, make_scorer\n",
        "from sklearn.model_selection import train_test_split, cross_val_predict, GridSearchCV, RandomizedSearchCV\n",
        "from itertools import combinations, chain\n",
        "from xgboost import XGBClassifier\n",
        "warnings.filterwarnings(\"ignore\")"
      ]
    },
    {
      "cell_type": "code",
      "source": [
        "#load the cleaned data\n",
        "df = pd.read_csv('https://raw.githubusercontent.com/tanujmath/CreditGuard/main/data/cs-training-new.csv')"
      ],
      "metadata": {
        "id": "UY6xV92Jn0H7"
      },
      "execution_count": 2,
      "outputs": []
    },
    {
      "cell_type": "markdown",
      "source": [
        "## We do the Model Fitting twice, one with scaling and one without"
      ],
      "metadata": {
        "id": "Xxu1TXeHFHM3"
      }
    },
    {
      "cell_type": "markdown",
      "source": [
        "### Unscaled Model Fitting"
      ],
      "metadata": {
        "id": "-4ZaukTOFRC6"
      }
    },
    {
      "cell_type": "code",
      "source": [
        "#Split the data into training and testing\n",
        "X = df.iloc[:,2:9]\n",
        "y=df['SeriousDlqin2yrs']\n",
        "\n",
        "\n",
        "X_train, X_test, y_train, y_test = train_test_split(X,y ,\n",
        "                                   random_state=14,\n",
        "                                   test_size=0.2,\n",
        "                                   shuffle=True)"
      ],
      "metadata": {
        "id": "GRLWvUqDo1fA"
      },
      "execution_count": 3,
      "outputs": []
    },
    {
      "cell_type": "markdown",
      "source": [
        "#### Linear Regression"
      ],
      "metadata": {
        "id": "Y3POJ-AEFc6d"
      }
    },
    {
      "cell_type": "code",
      "source": [
        "# Linear Regression with standardized data\n",
        "\n",
        "l_reg = LinearRegression(copy_X=True, fit_intercept=True)\n",
        "l_reg.fit(X_train,y_train)\n",
        "\n",
        "# Calculate the AUC\n",
        "l_reg_auc = roc_auc_score(y_test, l_reg.predict(X_test))\n",
        "l_reg_auc"
      ],
      "metadata": {
        "colab": {
          "base_uri": "https://localhost:8080/"
        },
        "id": "7YbpoVWZCVui",
        "outputId": "e163871d-adb1-44a8-b5df-e904ad916a61"
      },
      "execution_count": 4,
      "outputs": [
        {
          "output_type": "execute_result",
          "data": {
            "text/plain": [
              "0.6852609404024366"
            ]
          },
          "metadata": {},
          "execution_count": 4
        }
      ]
    },
    {
      "cell_type": "markdown",
      "source": [
        "#### Ridge Regularization"
      ],
      "metadata": {
        "id": "UX1dJM2Ipyjl"
      }
    },
    {
      "cell_type": "code",
      "source": [
        "reg_ridge = Ridge(alpha=0.2, fit_intercept=True, copy_X=True)\n",
        "reg_ridge.fit(X_train, y_train)\n",
        "\n",
        "# Calculate the AUC\n",
        "ridge_auc = roc_auc_score(y_test, reg_ridge.predict(X_test))\n",
        "ridge_auc"
      ],
      "metadata": {
        "colab": {
          "base_uri": "https://localhost:8080/"
        },
        "id": "d-8g6rZfp4Ta",
        "outputId": "ffb4fcc1-c2d3-4ca3-dc85-4b7f37dc843f"
      },
      "execution_count": 5,
      "outputs": [
        {
          "output_type": "execute_result",
          "data": {
            "text/plain": [
              "0.6852609130934182"
            ]
          },
          "metadata": {},
          "execution_count": 5
        }
      ]
    },
    {
      "cell_type": "markdown",
      "source": [
        "#### Lasso Regularization"
      ],
      "metadata": {
        "id": "gjb5ilxjqAul"
      }
    },
    {
      "cell_type": "code",
      "source": [
        "reg_lasso = Lasso(alpha=0.2, fit_intercept=True, copy_X=True)\n",
        "reg_lasso.fit(X_train, y_train)\n",
        "\n",
        "# Calculate the AUC\n",
        "lasso_auc = roc_auc_score(y_test, reg_lasso.predict(X_test))\n",
        "lasso_auc"
      ],
      "metadata": {
        "colab": {
          "base_uri": "https://localhost:8080/"
        },
        "id": "EW6kg1y3qD18",
        "outputId": "de76c772-d040-413f-ad3b-f19f86bd9cda"
      },
      "execution_count": 6,
      "outputs": [
        {
          "output_type": "execute_result",
          "data": {
            "text/plain": [
              "0.6325474480541506"
            ]
          },
          "metadata": {},
          "execution_count": 6
        }
      ]
    },
    {
      "cell_type": "markdown",
      "source": [
        "#### Logistic Regression"
      ],
      "metadata": {
        "id": "CX7jFdgIqQPu"
      }
    },
    {
      "cell_type": "code",
      "source": [
        "#Define the model with random hyperparameters\n",
        "logit = LogisticRegression(n_jobs = -1)\n",
        "\n",
        "#Fit data into the model\n",
        "logit.fit(X_train, y_train)\n",
        "\n",
        "#Predict probabilities\n",
        "logit_scores_proba = logit.predict_proba(X_test)\n",
        "preds = logit_scores_proba[:,1]  # predictions\n",
        "\n",
        "log_auc = round(roc_auc_score(y_test,preds),5)\n",
        "\n",
        "#Printing area under curve\n",
        "print('AUC Score : ',  log_auc)"
      ],
      "metadata": {
        "colab": {
          "base_uri": "https://localhost:8080/"
        },
        "id": "sJ8_8sVOrmsX",
        "outputId": "3f1ce273-812b-4b16-acce-30717128fc36"
      },
      "execution_count": 7,
      "outputs": [
        {
          "output_type": "stream",
          "name": "stdout",
          "text": [
            "AUC Score :  0.64351\n"
          ]
        }
      ]
    },
    {
      "cell_type": "markdown",
      "source": [
        "#### Hyperparameter tuning"
      ],
      "metadata": {
        "id": "Dz_MRPpYr6YP"
      }
    },
    {
      "cell_type": "code",
      "source": [
        "# Initialize logistic regression model\n",
        "model = LogisticRegression(solver='liblinear', n_jobs=-1)\n",
        "\n",
        "# Define hyperparameters to tune\n",
        "hyperparameters = {'C': np.logspace(-4, 4, 10), 'penalty': ['l1', 'l2'],\n",
        "                   'max_iter': list(range(100,800,100))}\n",
        "\n",
        "# Define scorer based on AUC\n",
        "scorer = make_scorer(roc_auc_score, needs_proba=True)\n",
        "\n",
        "## GRIDSEARCH\n",
        "\n",
        "# Initialize GridSearchCV\n",
        "gridsearch = GridSearchCV(model, hyperparameters, scoring=scorer, cv=5)\n",
        "\n",
        "# Fit GridSearchCV on training data\n",
        "gridsearch.fit(X_train, y_train)\n",
        "\n",
        "# Get the best model\n",
        "best_model = gridsearch.best_estimator_\n",
        "\n",
        "\n",
        "# Predict probabilities on test data using the best model\n",
        "y_pred_proba = best_model.predict_proba(X_test)[:, 1]\n",
        "\n",
        "# Calculate AUC\n",
        "log_grid_auc = round(roc_auc_score(y_test, y_pred_proba),5)\n",
        "\n",
        "print(f'The AUC of the test set through gridsearch tuning is {log_grid_auc}')\n",
        "\n",
        "## RANDOMSEARCH\n",
        "\n",
        "# Initialize logistic regression model\n",
        "model = LogisticRegression(solver='liblinear', n_jobs=-1)\n",
        "\n",
        "\n",
        "# Initialize RandomizedSearchCV\n",
        "randomsearch = RandomizedSearchCV(model, hyperparameters, scoring=scorer, cv=5)\n",
        "\n",
        "# Fit RandomizedSearchCV on training data\n",
        "randomsearch.fit(X_train, y_train)\n",
        "\n",
        "# Get the best model\n",
        "best_model = randomsearch.best_estimator_\n",
        "\n",
        "\n",
        "# Predict probabilities on test data using the best model\n",
        "y_pred_proba = best_model.predict_proba(X_test)[:, 1]\n",
        "\n",
        "# Calculate AUC\n",
        "log_random_auc = round(roc_auc_score(y_test, y_pred_proba),5)\n",
        "\n",
        "print(f'The AUC of the test set through randomsearch tuning is {log_random_auc}')\n"
      ],
      "metadata": {
        "colab": {
          "base_uri": "https://localhost:8080/"
        },
        "id": "Kz8YJxnZrxvj",
        "outputId": "c68d236f-f238-4d24-9011-530f2af2eda7"
      },
      "execution_count": 8,
      "outputs": [
        {
          "output_type": "stream",
          "name": "stdout",
          "text": [
            "The AUC of the test set through gridsearch tuning is 0.65679\n",
            "The AUC of the test set through randomsearch tuning is 0.65724\n"
          ]
        }
      ]
    },
    {
      "cell_type": "markdown",
      "source": [
        "#### Random Forests"
      ],
      "metadata": {
        "id": "3lqfkqb8sLrp"
      }
    },
    {
      "cell_type": "code",
      "source": [
        "# Define the model\n",
        "rf = RandomForestClassifier()\n",
        "\n",
        "# Define the hyperparameters to tune\n",
        "param_grid = {\n",
        "    'n_estimators': [100, 200, 300, 400],\n",
        "    'max_depth': [10, 20, 30, 40],\n",
        "    'min_samples_split': [2, 5, 10],\n",
        "    'min_samples_leaf': [1, 2, 4],\n",
        "    'n_jobs': [-1]\n",
        "}\n",
        "\n",
        "# Define scorer based on AUC\n",
        "scorer = make_scorer(roc_auc_score, needs_proba=True)\n",
        "\n",
        "# Initialize RandomizedSearchCV\n",
        "randomsearch = RandomizedSearchCV(rf, param_grid, scoring=scorer, cv=5, verbose = 1)\n",
        "\n",
        "# Fit RandomizedSearchCV on training data\n",
        "randomsearch.fit(X_train, y_train)\n",
        "\n",
        "# Get the best model\n",
        "best_model = randomsearch.best_estimator_\n",
        "\n",
        "# Get the best parameters\n",
        "best_params = randomsearch.best_params_\n",
        "\n",
        "#print(f\"Best parameters: {best_params}\")\n",
        "\n",
        "# Fit the model with the best parameters\n",
        "rf_best = RandomForestClassifier(**best_params)\n",
        "rf_best.fit(X_train, y_train)\n",
        "\n",
        "# Make predictions\n",
        "y_pred = rf_best.predict(X_test)\n",
        "y_pred_proba = rf_best.predict_proba(X_test)[:, 1]\n",
        "\n",
        "# Evaluate the model\n",
        "rf_auc = round(roc_auc_score(y_test, y_pred_proba),5)\n",
        "\n",
        "print(f\"AUC: {rf_auc}\")"
      ],
      "metadata": {
        "colab": {
          "base_uri": "https://localhost:8080/"
        },
        "id": "frGUpfx7sJMp",
        "outputId": "dd674bd9-2f67-40c2-9771-395db3309c9b"
      },
      "execution_count": 9,
      "outputs": [
        {
          "output_type": "stream",
          "name": "stdout",
          "text": [
            "Fitting 5 folds for each of 10 candidates, totalling 50 fits\n",
            "AUC: 0.81529\n"
          ]
        }
      ]
    },
    {
      "cell_type": "markdown",
      "source": [
        "#### XGBoost"
      ],
      "metadata": {
        "id": "y0E5EaPAsx0m"
      }
    },
    {
      "cell_type": "code",
      "source": [
        "# Define the model. If GPU is present, use GPU.\n",
        "model = XGBClassifier(tree_method='hist', device = 'cuda')\n",
        "\n",
        "# Define the parameters for the RandomizedSearch\n",
        "params = {\n",
        "    'min_child_weight': [1, 5, 10],\n",
        "    'gamma': [0.5, 1, 1.5, 2, 5],\n",
        "    'subsample': [0.6, 0.8, 1.0],\n",
        "    'colsample_bytree': [0.6, 0.8, 1.0],\n",
        "    'max_depth': [3, 4, 5]\n",
        "}\n",
        "\n",
        "#Initialize randomized search\n",
        "random_search = RandomizedSearchCV(model, param_distributions=params, n_iter=5,\n",
        "                                   scoring='roc_auc', n_jobs=-1, cv=5, verbose=1)\n",
        "\n",
        "# Fit the model to the training data\n",
        "random_search.fit(X_train, y_train)\n",
        "\n",
        "# Make predictions\n",
        "y_pred = random_search.predict(X_test)\n",
        "y_pred_proba = random_search.predict_proba(X_test)[:, 1]\n",
        "\n",
        "# Evaluate the model\n",
        "xg_auc = roc_auc_score(y_test, y_pred_proba)\n",
        "\n",
        "print(f\"AUC: {xg_auc}\")"
      ],
      "metadata": {
        "colab": {
          "base_uri": "https://localhost:8080/"
        },
        "id": "9hwH_Nn7swHR",
        "outputId": "0053c51c-a6f2-4cf4-dd8f-5f452bb2c4c0"
      },
      "execution_count": 10,
      "outputs": [
        {
          "output_type": "stream",
          "name": "stdout",
          "text": [
            "Fitting 5 folds for each of 5 candidates, totalling 25 fits\n",
            "AUC: 0.8164034486920891\n"
          ]
        }
      ]
    },
    {
      "cell_type": "markdown",
      "source": [
        "### Now we use scaled data"
      ],
      "metadata": {
        "id": "flx8LkueuBpu"
      }
    },
    {
      "cell_type": "code",
      "source": [
        "# first make a deep copy of the data\n",
        "df2=df.copy(deep=True)\n",
        "\n",
        "# Make a scaler object : i.e. the StandardScaler object below which will know what to do make the standardization in the way we want\n",
        "scaler=StandardScaler()\n",
        "\n",
        "# fit the scaler : calling 'fit' means, the case of standardizing here, knowing the columns and the mean, standard deviation of the each of the columns\n",
        "scaler.fit(df2.iloc[:,2:9])\n",
        "\n",
        "# scaling the data\n",
        "df_scale =scaler.transform(df2.iloc[:,2:9])"
      ],
      "metadata": {
        "id": "rehVp_Bjs3xb"
      },
      "execution_count": 11,
      "outputs": []
    },
    {
      "cell_type": "code",
      "source": [],
      "metadata": {
        "id": "6p-pl_mKwXH2"
      },
      "execution_count": 11,
      "outputs": []
    },
    {
      "cell_type": "code",
      "source": [
        "#Split the data into training and testing\n",
        "y=df['SeriousDlqin2yrs']\n",
        "\n",
        "X_train_s, X_test_s, y_train, y_test = train_test_split(df_scale,y ,\n",
        "                                   random_state=14,\n",
        "                                   test_size=0.2,\n",
        "                                   shuffle=True)"
      ],
      "metadata": {
        "id": "xmV4rL8pwM2U"
      },
      "execution_count": 12,
      "outputs": []
    },
    {
      "cell_type": "markdown",
      "source": [
        "#### Linear Regression"
      ],
      "metadata": {
        "id": "GtThegRi6c_I"
      }
    },
    {
      "cell_type": "code",
      "source": [
        "# Linear Regression with standardized data\n",
        "\n",
        "l_reg = LinearRegression(copy_X=True, fit_intercept=True)\n",
        "l_reg.fit(X_train_s,y_train)\n",
        "\n",
        "# Calculate the AUC\n",
        "l_reg_auc_s = roc_auc_score(y_test, l_reg.predict(X_test_s))\n",
        "l_reg_auc_s"
      ],
      "metadata": {
        "colab": {
          "base_uri": "https://localhost:8080/"
        },
        "id": "ZFPqqy8s5aGa",
        "outputId": "79828d23-2c67-4356-d73d-d9ef1fbf69f5"
      },
      "execution_count": 13,
      "outputs": [
        {
          "output_type": "execute_result",
          "data": {
            "text/plain": [
              "0.6852609404024366"
            ]
          },
          "metadata": {},
          "execution_count": 13
        }
      ]
    },
    {
      "cell_type": "markdown",
      "source": [
        "#### Ridge Regularization"
      ],
      "metadata": {
        "id": "DGs83DpB6lvC"
      }
    },
    {
      "cell_type": "code",
      "source": [
        "reg_ridge = Ridge(alpha=0.2, fit_intercept=True, copy_X=True)\n",
        "reg_ridge.fit(X_train_s, y_train)\n",
        "\n",
        "# Calculate the AUC\n",
        "ridge_auc_s = roc_auc_score(y_test, reg_ridge.predict(X_test_s))\n",
        "ridge_auc_s"
      ],
      "metadata": {
        "colab": {
          "base_uri": "https://localhost:8080/"
        },
        "id": "2xSD5PsT6hHY",
        "outputId": "d785b1a5-81f4-4f61-eeba-54ba25f0fa73"
      },
      "execution_count": 14,
      "outputs": [
        {
          "output_type": "execute_result",
          "data": {
            "text/plain": [
              "0.6852609130934181"
            ]
          },
          "metadata": {},
          "execution_count": 14
        }
      ]
    },
    {
      "cell_type": "code",
      "source": [],
      "metadata": {
        "id": "TPlbyOBs6pZF"
      },
      "execution_count": 14,
      "outputs": []
    },
    {
      "cell_type": "markdown",
      "source": [
        "#### Lasso Regularization"
      ],
      "metadata": {
        "id": "6tzIhLhl6rTq"
      }
    },
    {
      "cell_type": "code",
      "source": [
        "reg_lasso = Lasso(alpha=0.2, fit_intercept=True, copy_X=True)\n",
        "reg_lasso.fit(X_train_s, y_train)\n",
        "\n",
        "# Calculate the AUC\n",
        "lasso_auc_s = roc_auc_score(y_test, reg_lasso.predict(X_test_s))\n",
        "lasso_auc_s"
      ],
      "metadata": {
        "colab": {
          "base_uri": "https://localhost:8080/"
        },
        "id": "kVS2qU0X6s7u",
        "outputId": "4c8efe63-9c49-4e94-d9ad-7b4fb761253c"
      },
      "execution_count": 15,
      "outputs": [
        {
          "output_type": "execute_result",
          "data": {
            "text/plain": [
              "0.5"
            ]
          },
          "metadata": {},
          "execution_count": 15
        }
      ]
    },
    {
      "cell_type": "markdown",
      "source": [
        "#### Logisitic Regression"
      ],
      "metadata": {
        "id": "I5Efpk_U64Ix"
      }
    },
    {
      "cell_type": "code",
      "source": [
        "#Define the model with random hyperparameters\n",
        "logit = LogisticRegression(n_jobs = -1)\n",
        "\n",
        "#Fit data into the model\n",
        "logit.fit(X_train_s, y_train)\n",
        "\n",
        "#Predict probabilities\n",
        "logit_scores_proba = logit.predict_proba(X_test_s)\n",
        "preds = logit_scores_proba[:,1]  # predictions\n",
        "\n",
        "log_auc_s = round(roc_auc_score(y_test,preds),5)\n",
        "\n",
        "#Printing area under curve\n",
        "print('AUC Score : ',  log_auc_s)"
      ],
      "metadata": {
        "colab": {
          "base_uri": "https://localhost:8080/"
        },
        "id": "HsuPSTse60pL",
        "outputId": "7ea73898-c57b-49c1-c75b-0334643c7cc5"
      },
      "execution_count": 16,
      "outputs": [
        {
          "output_type": "stream",
          "name": "stdout",
          "text": [
            "AUC Score :  0.65712\n"
          ]
        }
      ]
    },
    {
      "cell_type": "markdown",
      "source": [
        "#### Hyperparameter tuning"
      ],
      "metadata": {
        "id": "ygcPg4vN7EC0"
      }
    },
    {
      "cell_type": "code",
      "source": [
        "# Initialize logistic regression model\n",
        "model = LogisticRegression(solver='liblinear')\n",
        "\n",
        "# Define hyperparameters to tune\n",
        "hyperparameters = {'C': np.logspace(-4, 4, 10), 'penalty': ['l1', 'l2'],\n",
        "                   'max_iter': list(range(100,800,100))}\n",
        "\n",
        "# Define scorer based on AUC\n",
        "scorer = make_scorer(roc_auc_score, needs_proba=True)\n",
        "\n",
        "## GRIDSEARCH\n",
        "\n",
        "# Initialize GridSearchCV\n",
        "gridsearch = GridSearchCV(model, hyperparameters, scoring=scorer, cv=5)\n",
        "\n",
        "# Fit GridSearchCV on training data\n",
        "gridsearch.fit(X_train_s, y_train)\n",
        "\n",
        "# Get the best model\n",
        "best_model = gridsearch.best_estimator_\n",
        "\n",
        "\n",
        "# Predict probabilities on test data using the best model\n",
        "y_pred_proba = best_model.predict_proba(X_test_s)[:, 1]\n",
        "\n",
        "# Calculate AUC\n",
        "log_grid_auc_s = round(roc_auc_score(y_test, y_pred_proba),5)\n",
        "\n",
        "print(f'The AUC of the test set through gridsearch tuning is {log_grid_auc_s}')\n",
        "\n",
        "## RANDOMSEARCH\n",
        "\n",
        "# Initialize logistic regression model\n",
        "model = LogisticRegression(solver='liblinear')\n",
        "\n",
        "\n",
        "# Initialize RandomizedSearchCV\n",
        "randomsearch = RandomizedSearchCV(model, hyperparameters, scoring=scorer, cv=5)\n",
        "\n",
        "# Fit RandomizedSearchCV on training data\n",
        "randomsearch.fit(X_train_s, y_train)\n",
        "\n",
        "# Get the best model\n",
        "best_model = randomsearch.best_estimator_\n",
        "\n",
        "\n",
        "# Predict probabilities on test data using the best model\n",
        "y_pred_proba = best_model.predict_proba(X_test_s)[:, 1]\n",
        "\n",
        "# Calculate AUC\n",
        "log_random_auc_s = round(roc_auc_score(y_test, y_pred_proba),5)\n",
        "\n",
        "print(f'The AUC of the test set through randomsearch tuning is {log_random_auc_s}')\n"
      ],
      "metadata": {
        "colab": {
          "base_uri": "https://localhost:8080/"
        },
        "id": "1uG4GfxK699o",
        "outputId": "0027cca6-4b02-4e31-a4a2-91f492880c8c"
      },
      "execution_count": 17,
      "outputs": [
        {
          "output_type": "stream",
          "name": "stdout",
          "text": [
            "The AUC of the test set through gridsearch tuning is 0.67749\n",
            "The AUC of the test set through randomsearch tuning is 0.67749\n"
          ]
        }
      ]
    },
    {
      "cell_type": "code",
      "source": [],
      "metadata": {
        "id": "Z2CKN9QD7iGL"
      },
      "execution_count": 17,
      "outputs": []
    },
    {
      "cell_type": "markdown",
      "source": [
        "#### Random Forests"
      ],
      "metadata": {
        "id": "-MtRqOjW7zOz"
      }
    },
    {
      "cell_type": "code",
      "source": [
        "# Define the model\n",
        "rf = RandomForestClassifier()\n",
        "\n",
        "# Define the hyperparameters to tune\n",
        "param_grid = {\n",
        "    'n_estimators': [100, 200, 300, 400],\n",
        "    'max_depth': [10, 20, 30, 40],\n",
        "    'min_samples_split': [2, 5, 10],\n",
        "    'min_samples_leaf': [1, 2, 4],\n",
        "    'n_jobs': [-1]\n",
        "}\n",
        "\n",
        "# Define scorer based on AUC\n",
        "scorer = make_scorer(roc_auc_score, needs_proba=True)\n",
        "\n",
        "# Initialize RandomizedSearchCV\n",
        "randomsearch = RandomizedSearchCV(rf, param_grid, scoring=scorer, cv=5, verbose = 1)\n",
        "\n",
        "# Fit RandomizedSearchCV on training data\n",
        "randomsearch.fit(X_train_s, y_train)\n",
        "\n",
        "# Get the best model\n",
        "best_model = randomsearch.best_estimator_\n",
        "\n",
        "# Get the best parameters\n",
        "best_params = randomsearch.best_params_\n",
        "\n",
        "#print(f\"Best parameters: {best_params}\")\n",
        "\n",
        "# Fit the model with the best parameters\n",
        "rf_best = RandomForestClassifier(**best_params)\n",
        "rf_best.fit(X_train_s, y_train)\n",
        "\n",
        "# Make predictions\n",
        "y_pred = rf_best.predict(X_test_s)\n",
        "y_pred_proba = rf_best.predict_proba(X_test_s)[:, 1]\n",
        "\n",
        "# Evaluate the model\n",
        "rf_auc_s = round(roc_auc_score(y_test, y_pred_proba),5)\n",
        "\n",
        "print(f\"AUC: {rf_auc_s}\")"
      ],
      "metadata": {
        "colab": {
          "base_uri": "https://localhost:8080/"
        },
        "id": "8VfWI8QJ70wK",
        "outputId": "a4176361-489f-4d99-9249-1027471f7ed0"
      },
      "execution_count": 18,
      "outputs": [
        {
          "output_type": "stream",
          "name": "stdout",
          "text": [
            "Fitting 5 folds for each of 10 candidates, totalling 50 fits\n",
            "AUC: 0.8158\n"
          ]
        }
      ]
    },
    {
      "cell_type": "code",
      "source": [],
      "metadata": {
        "id": "SOI4lkgA8U7P"
      },
      "execution_count": 18,
      "outputs": []
    },
    {
      "cell_type": "markdown",
      "source": [
        "#### XGBoost"
      ],
      "metadata": {
        "id": "TG09pJQt8ZjV"
      }
    },
    {
      "cell_type": "code",
      "source": [
        "# Define the model. If GPU is present, use GPU.\n",
        "model = XGBClassifier(tree_method='hist', device = 'cuda')\n",
        "\n",
        "# Define the parameters for the RandomizedSearch\n",
        "params = {\n",
        "    'min_child_weight': [1, 5, 10],\n",
        "    'gamma': [0.5, 1, 1.5, 2, 5],\n",
        "    'subsample': [0.6, 0.8, 1],\n",
        "    'colsample_bytree': [0.6, 0.8, 1],\n",
        "    'max_depth': [3, 4, 5,6]\n",
        "}\n",
        "\n",
        "#Initialize randomized search\n",
        "random_search = RandomizedSearchCV(model, param_distributions=params, n_iter=5,\n",
        "                                   scoring='roc_auc', n_jobs=-1, cv=5, verbose=1)\n",
        "\n",
        "# Fit the model to the training data\n",
        "random_search.fit(X_train_s, y_train)\n",
        "\n",
        "# Make predictions\n",
        "y_pred = random_search.predict(X_test_s)\n",
        "y_pred_proba = random_search.predict_proba(X_test_s)[:, 1]\n",
        "\n",
        "# Evaluate the model\n",
        "xg_auc_s = roc_auc_score(y_test, y_pred_proba)\n",
        "\n",
        "print(f\"AUC: {xg_auc_s}\")"
      ],
      "metadata": {
        "colab": {
          "base_uri": "https://localhost:8080/"
        },
        "id": "HlonjoDD8b0i",
        "outputId": "7b128d0f-9ccd-4e3c-9314-597e83919587"
      },
      "execution_count": 19,
      "outputs": [
        {
          "output_type": "stream",
          "name": "stdout",
          "text": [
            "Fitting 5 folds for each of 5 candidates, totalling 25 fits\n",
            "AUC: 0.816369626472707\n"
          ]
        }
      ]
    },
    {
      "cell_type": "code",
      "source": [],
      "metadata": {
        "id": "enkPMvZP8leM"
      },
      "execution_count": 47,
      "outputs": []
    },
    {
      "cell_type": "markdown",
      "source": [],
      "metadata": {
        "id": "w5r8o19OEsmG"
      }
    },
    {
      "cell_type": "markdown",
      "source": [
        "## Credibility recommendation system"
      ],
      "metadata": {
        "id": "blYB6VLwEu0u"
      }
    },
    {
      "cell_type": "code",
      "source": [
        "import warnings\n",
        "warnings.filterwarnings(\"ignore\")\n",
        "\n",
        "print(\"Features: 2-> RevolvingUtilizationOfUnsecuredLines, 5-> DebtRatio, 6-> MonthlyIncome, 7-> NumberOfOpenCreditLinesAndLoans, 8-> NumberOfTimes90DaysLate, 9-> NumberRealEstateLoansOrLines \")\n",
        "\n",
        "\n",
        "model = XGBClassifier(tree_method='hist', device = 'cuda', subsample = 1,\n",
        " min_child_weight= 5,\n",
        " max_depth= 3,\n",
        " gamma= 2,\n",
        " colsample_bytree= 0.6 )\n",
        "\n",
        "\n",
        "model.fit(X_train, y_train)\n",
        "y_pred = model.predict(X_test)\n",
        "thresh = 0.5\n",
        "dlq_index = np.where(y_pred>thresh)\n",
        "\n",
        "j = {}\n",
        "for ind in dlq_index[0]:\n",
        "  val = 0\n",
        "  comb = combinations([2,5,6,7,8,9], 3)\n",
        "  for i in comb:\n",
        "    X_subset = df.iloc[:,[i[0],i[1],i[2]]]\n",
        "    reg_subset = XGBClassifier(tree_method='hist', device = 'cuda',subsample = 1,\n",
        "      min_child_weight= 5,\n",
        "      max_depth= 3,\n",
        "      gamma= 2,\n",
        "      colsample_bytree= 0.6 )\n",
        "    X_train_subset, X_test_subset, y_train_subset, y_test_subset = train_test_split(X_subset,y,\n",
        "                                   random_state=12,\n",
        "                                   test_size=0.2)\n",
        "    reg_subset.fit(X_train_subset, y_train_subset)\n",
        "    ind_pred = reg_subset.predict_proba([X_subset.loc[ind].values])[0][1]\n",
        "    if ind_pred > val:\n",
        "      val = ind_pred\n",
        "      key = [(i[0],i[1],i[2])]\n",
        "    y_pred_subset = reg_subset.predict(X_test_subset)\n",
        "  j[ind] =  [val, key]\n",
        "print(j)\n"
      ],
      "metadata": {
        "colab": {
          "base_uri": "https://localhost:8080/"
        },
        "id": "5B5PH92WE1Dr",
        "outputId": "2f1391ef-89a9-49b7-f1de-899faa95a37b"
      },
      "execution_count": 20,
      "outputs": [
        {
          "output_type": "stream",
          "name": "stdout",
          "text": [
            "Features: 2-> RevolvingUtilizationOfUnsecuredLines, 5-> DebtRatio, 6-> MonthlyIncome, 7-> NumberOfOpenCreditLinesAndLoans, 8-> NumberOfTimes90DaysLate, 9-> NumberRealEstateLoansOrLines \n",
            "{91: [0.10958297, [(6, 8, 9)]], 278: [0.25343886, [(5, 7, 8)]], 647: [0.052261718, [(5, 7, 8)]], 693: [0.08691117, [(6, 7, 9)]], 725: [0.06989734, [(2, 6, 9)]], 778: [0.10838944, [(6, 7, 8)]], 1005: [0.21262614, [(2, 6, 9)]], 1245: [0.08842178, [(5, 6, 8)]], 1278: [0.10179714, [(6, 7, 8)]], 1441: [0.12930675, [(5, 7, 9)]], 1529: [0.374639, [(2, 5, 8)]], 1713: [0.06408785, [(7, 8, 9)]], 1778: [0.10728434, [(5, 6, 7)]], 1924: [0.047708675, [(5, 7, 8)]], 2026: [0.13779758, [(5, 8, 9)]], 2175: [0.21848004, [(2, 6, 9)]], 2378: [0.10605118, [(6, 8, 9)]], 2399: [0.093910314, [(7, 8, 9)]], 2525: [0.10584079, [(6, 7, 9)]], 2539: [0.070598505, [(6, 7, 8)]], 3041: [0.23993474, [(2, 6, 9)]], 3097: [0.061723858, [(5, 6, 7)]], 3126: [0.08771461, [(7, 8, 9)]], 3148: [0.08548643, [(7, 8, 9)]], 3163: [0.07457859, [(7, 8, 9)]], 3207: [0.074661486, [(5, 7, 8)]], 3281: [0.16480605, [(5, 6, 9)]], 3419: [0.19439028, [(2, 6, 8)]], 3466: [0.15560938, [(5, 6, 7)]], 3491: [0.11790047, [(6, 8, 9)]], 3625: [0.096655324, [(5, 6, 9)]], 3670: [0.07685714, [(5, 7, 9)]], 3681: [0.09993371, [(5, 7, 9)]], 3718: [0.11590908, [(5, 8, 9)]], 3893: [0.07054851, [(5, 7, 8)]], 3993: [0.19406241, [(2, 7, 8)]], 4065: [0.16249117, [(2, 7, 8)]], 4078: [0.08333003, [(6, 7, 9)]], 4197: [0.06706545, [(7, 8, 9)]], 4233: [0.19066006, [(2, 5, 7)]], 4249: [0.16354173, [(5, 7, 8)]], 4508: [0.15480582, [(2, 8, 9)]], 4523: [0.04509185, [(6, 7, 8)]], 4542: [0.16287005, [(5, 6, 9)]], 4759: [0.17871948, [(5, 6, 8)]], 4762: [0.21072222, [(2, 6, 7)]], 4765: [0.1112653, [(5, 6, 9)]], 4778: [0.09554945, [(5, 6, 7)]], 4855: [0.19201191, [(2, 7, 8)]], 4941: [0.045879237, [(6, 7, 8)]], 5004: [0.21824391, [(2, 6, 8)]], 5024: [0.04459589, [(7, 8, 9)]], 5082: [0.11312202, [(5, 8, 9)]], 5317: [0.04459589, [(7, 8, 9)]], 5336: [0.06408785, [(7, 8, 9)]], 5366: [0.10168931, [(2, 8, 9)]], 5590: [0.17015274, [(5, 6, 8)]], 5695: [0.066111036, [(6, 7, 8)]], 5783: [0.075456455, [(5, 7, 9)]], 5792: [0.16218564, [(6, 7, 8)]], 5808: [0.099156864, [(7, 8, 9)]], 5858: [0.07559965, [(5, 6, 7)]], 5892: [0.18121657, [(2, 7, 8)]], 5898: [0.081137344, [(7, 8, 9)]], 5927: [0.09354247, [(5, 8, 9)]], 6292: [0.10157113, [(5, 6, 8)]], 6344: [0.11115611, [(6, 7, 9)]], 6401: [0.060645573, [(7, 8, 9)]], 6461: [0.25099984, [(2, 5, 9)]], 6484: [0.05660148, [(5, 7, 9)]], 6565: [0.18977675, [(2, 8, 9)]], 6712: [0.087692544, [(5, 8, 9)]], 6860: [0.19175905, [(5, 6, 9)]], 7115: [0.123340264, [(6, 8, 9)]], 7339: [0.061196182, [(7, 8, 9)]], 7444: [0.081137344, [(7, 8, 9)]], 7690: [0.08963376, [(5, 6, 7)]], 7745: [0.35022008, [(2, 6, 8)]], 7904: [0.106507875, [(2, 6, 7)]], 7929: [0.14844461, [(2, 5, 6)]], 8280: [0.11935365, [(2, 6, 8)]], 8289: [0.06807871, [(5, 8, 9)]], 8306: [0.083443105, [(6, 7, 8)]], 8380: [0.103323705, [(6, 7, 8)]], 8541: [0.10874455, [(5, 7, 9)]], 8660: [0.21848004, [(2, 6, 9)]], 8671: [0.1406257, [(6, 8, 9)]], 8881: [0.083398536, [(6, 7, 8)]], 8919: [0.052006558, [(7, 8, 9)]], 8956: [0.099972494, [(6, 8, 9)]], 8976: [0.11063784, [(5, 6, 9)]], 9199: [0.3033177, [(2, 6, 7)]], 9250: [0.12013226, [(2, 5, 9)]], 9339: [0.078002974, [(7, 8, 9)]], 9554: [0.14232066, [(2, 8, 9)]], 9743: [0.12126623, [(5, 7, 9)]], 9841: [0.06807871, [(5, 8, 9)]], 9843: [0.074485034, [(7, 8, 9)]], 9945: [0.11843876, [(6, 7, 8)]], 9950: [0.114664376, [(5, 6, 9)]], 9980: [0.046713077, [(7, 8, 9)]], 10100: [0.060196176, [(5, 6, 7)]], 10103: [0.11669937, [(5, 6, 7)]], 10164: [0.44425145, [(2, 6, 8)]], 10202: [0.10838944, [(6, 7, 8)]], 10350: [0.06774599, [(5, 6, 7)]], 10529: [0.35882422, [(2, 6, 8)]], 10590: [0.083398536, [(6, 7, 8)]], 10761: [0.20908625, [(5, 6, 9)]], 10884: [0.10087741, [(2, 8, 9)]], 10987: [0.06988168, [(7, 8, 9)]], 11015: [0.26454198, [(2, 5, 9)]], 11056: [0.09204599, [(5, 7, 8)]], 11132: [0.12324522, [(7, 8, 9)]], 11199: [0.06747471, [(5, 6, 8)]], 11206: [0.21892795, [(2, 5, 9)]], 11377: [0.07206827, [(5, 6, 7)]], 11428: [0.06706545, [(7, 8, 9)]], 11625: [0.062223546, [(5, 7, 8)]], 11659: [0.1286748, [(2, 6, 9)]], 11896: [0.20001659, [(2, 7, 9)]], 11950: [0.2774395, [(2, 5, 9)]], 12003: [0.046713077, [(7, 8, 9)]], 12006: [0.075550996, [(2, 6, 7)]], 12014: [0.30768716, [(2, 5, 8)]], 12058: [0.09217925, [(5, 8, 9)]], 12100: [0.06740609, [(7, 8, 9)]], 12206: [0.070773385, [(2, 7, 8)]], 12355: [0.09632955, [(6, 8, 9)]], 12419: [0.09137431, [(6, 8, 9)]], 13039: [0.45511606, [(2, 5, 9)]], 13043: [0.115220964, [(2, 6, 9)]], 13067: [0.12844189, [(2, 6, 7)]], 13183: [0.105396956, [(7, 8, 9)]], 13330: [0.07268959, [(2, 8, 9)]], 13349: [0.44425145, [(2, 6, 8)]], 13351: [0.5056343, [(2, 5, 8)]], 13664: [0.11908491, [(5, 7, 8)]], 13756: [0.23361388, [(5, 8, 9)]], 13795: [0.13377583, [(5, 6, 8)]], 13925: [0.08894167, [(5, 6, 8)]], 14045: [0.09413481, [(7, 8, 9)]], 14060: [0.30532682, [(2, 5, 8)]], 14079: [0.07301434, [(5, 7, 8)]], 14336: [0.10148033, [(5, 6, 8)]], 14357: [0.061196182, [(7, 8, 9)]], 14412: [0.0792513, [(6, 7, 8)]], 14646: [0.13871238, [(2, 6, 7)]], 14672: [0.21824391, [(2, 6, 8)]], 14874: [0.06563158, [(5, 6, 7)]], 14889: [0.06408785, [(7, 8, 9)]], 14918: [0.045043007, [(6, 7, 8)]], 14960: [0.10087741, [(2, 8, 9)]], 15219: [0.10766847, [(5, 7, 9)]], 15250: [0.10215401, [(5, 6, 8)]], 15293: [0.13680686, [(6, 8, 9)]], 15456: [0.08135674, [(6, 8, 9)]], 15571: [0.08850858, [(5, 6, 8)]], 15768: [0.11115611, [(6, 7, 9)]], 15809: [0.16518688, [(2, 7, 8)]], 15876: [0.11280368, [(5, 8, 9)]], 15965: [0.08299319, [(2, 6, 7)]], 16028: [0.2184167, [(2, 5, 6)]], 16250: [0.10939158, [(5, 7, 9)]], 16373: [0.06894135, [(6, 7, 8)]], 16483: [0.05821933, [(6, 7, 8)]], 16669: [0.09512965, [(7, 8, 9)]], 16684: [0.06706545, [(7, 8, 9)]], 16716: [0.06796762, [(6, 7, 9)]], 16724: [0.06408785, [(7, 8, 9)]], 16906: [0.1367626, [(5, 8, 9)]], 16916: [0.09424488, [(5, 6, 8)]], 16976: [0.22958173, [(5, 7, 8)]], 17062: [0.1106355, [(2, 6, 7)]], 17139: [0.049893938, [(5, 7, 8)]], 17157: [0.21222226, [(2, 7, 8)]], 17181: [0.09450336, [(2, 7, 9)]], 17209: [0.11790047, [(6, 8, 9)]], 17269: [0.17617872, [(2, 5, 6)]], 17301: [0.12216942, [(2, 8, 9)]], 17372: [0.10247196, [(6, 7, 8)]], 17443: [0.22546536, [(2, 6, 9)]], 17534: [0.10877229, [(5, 6, 8)]], 17551: [0.061196182, [(7, 8, 9)]], 17588: [0.068013646, [(7, 8, 9)]], 17806: [0.055018477, [(6, 7, 8)]], 17862: [0.13829105, [(6, 7, 8)]], 17903: [0.15916882, [(5, 7, 9)]], 17944: [0.096519955, [(7, 8, 9)]], 18014: [0.09137431, [(6, 8, 9)]], 18142: [0.04760579, [(5, 7, 8)]], 18239: [0.04682482, [(5, 7, 8)]], 18336: [0.21848004, [(2, 6, 9)]], 18431: [0.089427575, [(5, 6, 7)]], 18438: [0.08687424, [(5, 6, 9)]], 18637: [0.17812142, [(2, 6, 9)]], 18687: [0.21824391, [(2, 6, 8)]], 18814: [0.19592892, [(2, 5, 8)]], 18849: [0.27513674, [(2, 7, 8)]], 18851: [0.12150441, [(6, 8, 9)]], 18888: [0.05038227, [(5, 6, 7)]], 18983: [0.21189667, [(2, 6, 8)]], 19114: [0.1406257, [(6, 8, 9)]], 19164: [0.21824391, [(2, 6, 8)]], 19265: [0.17829284, [(5, 6, 9)]], 19410: [0.08604905, [(6, 8, 9)]], 19440: [0.28403074, [(2, 5, 6)]], 19532: [0.07310743, [(7, 8, 9)]], 19644: [0.059902765, [(7, 8, 9)]], 19718: [0.06706545, [(7, 8, 9)]], 19739: [0.23235118, [(2, 6, 9)]], 19922: [0.08073179, [(5, 8, 9)]], 20092: [0.21824391, [(2, 6, 8)]], 20105: [0.17331004, [(2, 6, 8)]], 20118: [0.064359754, [(5, 6, 7)]], 20173: [0.47224772, [(2, 7, 9)]], 20193: [0.07013352, [(6, 7, 9)]], 20204: [0.11276005, [(2, 7, 8)]], 20304: [0.06408785, [(7, 8, 9)]], 20322: [0.07310743, [(7, 8, 9)]], 20346: [0.24310437, [(5, 7, 8)]], 20529: [0.17567734, [(5, 6, 9)]], 20540: [0.083398536, [(6, 7, 8)]], 20545: [0.15739259, [(2, 5, 7)]], 20592: [0.3033177, [(2, 6, 7)]], 20593: [0.13802055, [(5, 6, 7)]], 20654: [0.096172094, [(5, 6, 9)]], 20675: [0.10947066, [(2, 6, 7)]], 20835: [0.101569906, [(2, 7, 9)]], 20931: [0.16749547, [(2, 5, 9)]], 20962: [0.10455294, [(6, 8, 9)]], 20963: [0.06408785, [(7, 8, 9)]], 21044: [0.18512623, [(2, 5, 7)]], 21107: [0.21971184, [(2, 6, 9)]], 21181: [0.09376557, [(5, 7, 9)]], 21222: [0.061196182, [(7, 8, 9)]], 21496: [0.23817018, [(2, 6, 8)]], 21508: [0.21865313, [(5, 6, 7)]], 21748: [0.12693997, [(5, 7, 9)]], 21856: [0.08392378, [(7, 8, 9)]], 22145: [0.16100907, [(2, 8, 9)]], 22173: [0.12142739, [(7, 8, 9)]], 22204: [0.15496072, [(6, 8, 9)]], 22373: [0.081137344, [(7, 8, 9)]], 22445: [0.0770622, [(7, 8, 9)]], 22453: [0.061621465, [(5, 7, 9)]], 22639: [0.046713077, [(7, 8, 9)]], 22819: [0.060645573, [(7, 8, 9)]], 22836: [0.085907884, [(7, 8, 9)]], 22852: [0.10755734, [(6, 7, 9)]], 22918: [0.4738653, [(2, 5, 7)]], 23007: [0.08691117, [(6, 7, 9)]], 23043: [0.09137431, [(6, 8, 9)]], 23045: [0.10886083, [(6, 8, 9)]], 23066: [0.07833312, [(5, 8, 9)]], 23245: [0.0910854, [(2, 6, 8)]], 23372: [0.09900284, [(5, 6, 8)]], 23407: [0.20273982, [(2, 5, 6)]], 23567: [0.08264596, [(5, 6, 9)]], 23582: [0.0804352, [(6, 7, 9)]], 23592: [0.06055678, [(5, 6, 7)]], 23722: [0.11954551, [(6, 8, 9)]], 23883: [0.17572705, [(2, 5, 7)]], 23891: [0.06706545, [(7, 8, 9)]], 24003: [0.09240742, [(5, 6, 9)]], 24004: [0.32556176, [(2, 5, 7)]], 24018: [0.08790224, [(5, 7, 9)]]}\n"
          ]
        }
      ]
    },
    {
      "cell_type": "code",
      "source": [],
      "metadata": {
        "id": "_1c_qQUcJzy8"
      },
      "execution_count": 55,
      "outputs": []
    },
    {
      "cell_type": "code",
      "source": [],
      "metadata": {
        "id": "JqegRt-QJ7_L"
      },
      "execution_count": null,
      "outputs": []
    }
  ]
}