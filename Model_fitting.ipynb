{
  "nbformat": 4,
  "nbformat_minor": 0,
  "metadata": {
    "colab": {
      "provenance": [],
      "collapsed_sections": [
        "Y3POJ-AEFc6d",
        "UX1dJM2Ipyjl",
        "gjb5ilxjqAul",
        "CX7jFdgIqQPu",
        "Dz_MRPpYr6YP",
        "y0E5EaPAsx0m",
        "GtThegRi6c_I",
        "DGs83DpB6lvC",
        "6tzIhLhl6rTq",
        "I5Efpk_U64Ix",
        "ygcPg4vN7EC0"
      ],
      "gpuType": "T4"
    },
    "kernelspec": {
      "name": "python3",
      "display_name": "Python 3"
    },
    "language_info": {
      "name": "python"
    },
    "accelerator": "GPU"
  },
  "cells": [
    {
      "cell_type": "code",
      "execution_count": 2,
      "metadata": {
        "id": "yRZya8k7CM__"
      },
      "outputs": [],
      "source": [
        "import torch, pandas as pd, numpy as np, seaborn as sns\n",
        "from matplotlib import pyplot as plt\n",
        "from pandas.plotting import scatter_matrix\n",
        "from sklearn.ensemble import RandomForestClassifier\n",
        "from sklearn.preprocessing import StandardScaler\n",
        "from sklearn.linear_model import LinearRegression, LogisticRegression, Ridge, Lasso\n",
        "from sklearn.metrics import mean_squared_error, roc_curve, roc_auc_score, RocCurveDisplay, make_scorer\n",
        "from sklearn.model_selection import train_test_split, cross_val_predict, GridSearchCV, RandomizedSearchCV\n",
        "from itertools import combinations, chain\n",
        "from xgboost import XGBClassifier"
      ]
    },
    {
      "cell_type": "code",
      "source": [
        "#load the cleaned data\n",
        "df = pd.read_csv('https://raw.githubusercontent.com/tanujmath/CreditGuard/main/data/cs-training-new.csv')"
      ],
      "metadata": {
        "id": "UY6xV92Jn0H7"
      },
      "execution_count": 3,
      "outputs": []
    },
    {
      "cell_type": "markdown",
      "source": [
        "## We do the Model Fitting twice, one with scaling and one without"
      ],
      "metadata": {
        "id": "Xxu1TXeHFHM3"
      }
    },
    {
      "cell_type": "markdown",
      "source": [
        "### Unscaled Model Fitting"
      ],
      "metadata": {
        "id": "-4ZaukTOFRC6"
      }
    },
    {
      "cell_type": "code",
      "source": [
        "#Split the data into training and testing\n",
        "X = df.drop('SeriousDlqin2yrs', axis = 1)\n",
        "y=df['SeriousDlqin2yrs']\n",
        "\n",
        "\n",
        "X_train, X_test, y_train, y_test = train_test_split(X,y ,\n",
        "                                   random_state=14,\n",
        "                                   test_size=0.2,\n",
        "                                   shuffle=True)"
      ],
      "metadata": {
        "id": "GRLWvUqDo1fA"
      },
      "execution_count": 4,
      "outputs": []
    },
    {
      "cell_type": "markdown",
      "source": [
        "#### Linear Regression"
      ],
      "metadata": {
        "id": "Y3POJ-AEFc6d"
      }
    },
    {
      "cell_type": "code",
      "source": [
        "# Linear Regression with standardized data\n",
        "\n",
        "l_reg = LinearRegression(copy_X=True, fit_intercept=True)\n",
        "l_reg.fit(X_train,y_train)\n",
        "\n",
        "# Calculate the AUC\n",
        "l_reg_auc = roc_auc_score(y_test, l_reg.predict(X_test))\n",
        "l_reg_auc"
      ],
      "metadata": {
        "colab": {
          "base_uri": "https://localhost:8080/"
        },
        "id": "7YbpoVWZCVui",
        "outputId": "ce4944d6-21ce-4e46-af2e-aa7dc18cff4d"
      },
      "execution_count": 5,
      "outputs": [
        {
          "output_type": "execute_result",
          "data": {
            "text/plain": [
              "0.6861101962589922"
            ]
          },
          "metadata": {},
          "execution_count": 5
        }
      ]
    },
    {
      "cell_type": "markdown",
      "source": [
        "#### Ridge Regularization"
      ],
      "metadata": {
        "id": "UX1dJM2Ipyjl"
      }
    },
    {
      "cell_type": "code",
      "source": [
        "reg_ridge = Ridge(alpha=0.2, fit_intercept=True, copy_X=True)\n",
        "reg_ridge.fit(X_train, y_train)\n",
        "\n",
        "# Calculate the AUC\n",
        "ridge_auc = roc_auc_score(y_test, reg_ridge.predict(X_test))\n",
        "ridge_auc"
      ],
      "metadata": {
        "colab": {
          "base_uri": "https://localhost:8080/"
        },
        "id": "d-8g6rZfp4Ta",
        "outputId": "f3d2f5a4-6f75-4348-e23d-72ded99af21c"
      },
      "execution_count": 6,
      "outputs": [
        {
          "output_type": "execute_result",
          "data": {
            "text/plain": [
              "0.6861101416409553"
            ]
          },
          "metadata": {},
          "execution_count": 6
        }
      ]
    },
    {
      "cell_type": "markdown",
      "source": [
        "#### Lasso Regularization"
      ],
      "metadata": {
        "id": "gjb5ilxjqAul"
      }
    },
    {
      "cell_type": "code",
      "source": [
        "reg_lasso = Lasso(alpha=0.2, fit_intercept=True, copy_X=True)\n",
        "reg_lasso.fit(X_train, y_train)\n",
        "\n",
        "# Calculate the AUC\n",
        "lasso_auc = roc_auc_score(y_test, reg_lasso.predict(X_test))\n",
        "lasso_auc"
      ],
      "metadata": {
        "colab": {
          "base_uri": "https://localhost:8080/"
        },
        "id": "EW6kg1y3qD18",
        "outputId": "b5657c36-db7c-401c-84a9-69b2d18f21cc"
      },
      "execution_count": 7,
      "outputs": [
        {
          "output_type": "execute_result",
          "data": {
            "text/plain": [
              "0.6298431861541092"
            ]
          },
          "metadata": {},
          "execution_count": 7
        }
      ]
    },
    {
      "cell_type": "markdown",
      "source": [
        "#### Logistic Regression"
      ],
      "metadata": {
        "id": "CX7jFdgIqQPu"
      }
    },
    {
      "cell_type": "code",
      "source": [
        "#Define the model with random hyperparameters\n",
        "logit = LogisticRegression(n_jobs = -1)\n",
        "\n",
        "#Fit data into the model\n",
        "logit.fit(X_train, y_train)\n",
        "\n",
        "#Predict probabilities\n",
        "logit_scores_proba = logit.predict_proba(X_test)\n",
        "preds = logit_scores_proba[:,1]  # predictions\n",
        "\n",
        "log_auc = round(roc_auc_score(y_test,preds),5)\n",
        "\n",
        "#Printing area under curve\n",
        "print('AUC Score : ',  log_auc)"
      ],
      "metadata": {
        "colab": {
          "base_uri": "https://localhost:8080/"
        },
        "id": "sJ8_8sVOrmsX",
        "outputId": "39dadbd0-ff1c-49c8-b8ee-4a308691afb8"
      },
      "execution_count": 10,
      "outputs": [
        {
          "output_type": "stream",
          "name": "stdout",
          "text": [
            "AUC Score :  0.64475\n"
          ]
        }
      ]
    },
    {
      "cell_type": "markdown",
      "source": [
        "#### Hyperparameter tuning"
      ],
      "metadata": {
        "id": "Dz_MRPpYr6YP"
      }
    },
    {
      "cell_type": "code",
      "source": [
        "# Initialize logistic regression model\n",
        "model = LogisticRegression(solver='liblinear', n_jobs=-1)\n",
        "\n",
        "# Define hyperparameters to tune\n",
        "hyperparameters = {'C': np.logspace(-4, 4, 10), 'penalty': ['l1', 'l2'],\n",
        "                   'max_iter': list(range(100,800,100))}\n",
        "\n",
        "# Define scorer based on AUC\n",
        "scorer = make_scorer(roc_auc_score, needs_proba=True)\n",
        "\n",
        "## GRIDSEARCH\n",
        "\n",
        "# Initialize GridSearchCV\n",
        "gridsearch = GridSearchCV(model, hyperparameters, scoring=scorer, cv=5)\n",
        "\n",
        "# Fit GridSearchCV on training data\n",
        "gridsearch.fit(X_train, y_train)\n",
        "\n",
        "# Get the best model\n",
        "best_model = gridsearch.best_estimator_\n",
        "\n",
        "\n",
        "# Predict probabilities on test data using the best model\n",
        "y_pred_proba = best_model.predict_proba(X_test)[:, 1]\n",
        "\n",
        "# Calculate AUC\n",
        "log_grid_auc = round(roc_auc_score(y_test, y_pred_proba),5)\n",
        "\n",
        "print(f'The AUC of the test set through gridsearch tuning is {log_grid_auc}')\n",
        "\n",
        "## RANDOMSEARCH\n",
        "\n",
        "# Initialize logistic regression model\n",
        "model = LogisticRegression(solver='liblinear', n_jobs=-1)\n",
        "\n",
        "\n",
        "# Initialize RandomizedSearchCV\n",
        "randomsearch = RandomizedSearchCV(model, hyperparameters, scoring=scorer, cv=5)\n",
        "\n",
        "# Fit RandomizedSearchCV on training data\n",
        "randomsearch.fit(X_train, y_train)\n",
        "\n",
        "# Get the best model\n",
        "best_model = randomsearch.best_estimator_\n",
        "\n",
        "\n",
        "# Predict probabilities on test data using the best model\n",
        "y_pred_proba = best_model.predict_proba(X_test)[:, 1]\n",
        "\n",
        "# Calculate AUC\n",
        "log_random_auc = round(roc_auc_score(y_test, y_pred_proba),5)\n",
        "\n",
        "print(f'The AUC of the test set through randomsearch tuning is {log_random_auc}')\n"
      ],
      "metadata": {
        "colab": {
          "base_uri": "https://localhost:8080/"
        },
        "id": "Kz8YJxnZrxvj",
        "outputId": "b4839259-a98b-40a0-82a4-f84a78b4d4e2"
      },
      "execution_count": 11,
      "outputs": [
        {
          "output_type": "stream",
          "name": "stdout",
          "text": [
            "The AUC of the test set through gridsearch tuning is 0.66018\n",
            "The AUC of the test set through randomsearch tuning is 0.66017\n"
          ]
        }
      ]
    },
    {
      "cell_type": "markdown",
      "source": [
        "#### Random Forests"
      ],
      "metadata": {
        "id": "3lqfkqb8sLrp"
      }
    },
    {
      "cell_type": "code",
      "source": [
        "# Define the model\n",
        "rf = RandomForestClassifier()\n",
        "\n",
        "# Define the hyperparameters to tune\n",
        "param_grid = {\n",
        "    'n_estimators': [100, 200, 300, 400],\n",
        "    'max_depth': [10, 20, 30, 40],\n",
        "    'min_samples_split': [2, 5, 10],\n",
        "    'min_samples_leaf': [1, 2, 4],\n",
        "    'n_jobs': [-1]\n",
        "}\n",
        "\n",
        "# Define scorer based on AUC\n",
        "scorer = make_scorer(roc_auc_score, needs_proba=True)\n",
        "\n",
        "# Initialize RandomizedSearchCV\n",
        "randomsearch = RandomizedSearchCV(rf, param_grid, scoring=scorer, cv=5, verbose = 1)\n",
        "\n",
        "# Fit RandomizedSearchCV on training data\n",
        "randomsearch.fit(X_train, y_train)\n",
        "\n",
        "# Get the best model\n",
        "best_model = randomsearch.best_estimator_\n",
        "\n",
        "# Get the best parameters\n",
        "best_params = randomsearch.best_params_\n",
        "\n",
        "#print(f\"Best parameters: {best_params}\")\n",
        "\n",
        "# Fit the model with the best parameters\n",
        "rf_best = RandomForestClassifier(**best_params)\n",
        "rf_best.fit(X_train, y_train)\n",
        "\n",
        "# Make predictions\n",
        "y_pred = rf_best.predict(X_test)\n",
        "y_pred_proba = rf_best.predict_proba(X_test)[:, 1]\n",
        "\n",
        "# Evaluate the model\n",
        "rf_auc = round(roc_auc_score(y_test, y_pred_proba),5)\n",
        "\n",
        "print(f\"AUC: {rf_auc}\")"
      ],
      "metadata": {
        "colab": {
          "base_uri": "https://localhost:8080/"
        },
        "id": "frGUpfx7sJMp",
        "outputId": "b8f6c1db-3c2e-499d-f960-bdb884826986"
      },
      "execution_count": 12,
      "outputs": [
        {
          "output_type": "stream",
          "name": "stdout",
          "text": [
            "Fitting 5 folds for each of 10 candidates, totalling 50 fits\n",
            "AUC: 0.81637\n"
          ]
        }
      ]
    },
    {
      "cell_type": "markdown",
      "source": [
        "#### XGBoost"
      ],
      "metadata": {
        "id": "y0E5EaPAsx0m"
      }
    },
    {
      "cell_type": "code",
      "source": [
        "# Define the model. If GPU is present, use GPU.\n",
        "model = XGBClassifier(tree_method='hist', device = 'cuda')\n",
        "\n",
        "# Define the parameters for the RandomizedSearch\n",
        "params = {\n",
        "    'min_child_weight': [1, 5, 10],\n",
        "    'gamma': [0.5, 1, 1.5, 2, 5],\n",
        "    'subsample': [0.6, 0.8, 1.0],\n",
        "    'colsample_bytree': [0.6, 0.8, 1.0],\n",
        "    'max_depth': [3, 4, 5]\n",
        "}\n",
        "\n",
        "#Initialize randomized search\n",
        "random_search = RandomizedSearchCV(model, param_distributions=params, n_iter=5,\n",
        "                                   scoring='roc_auc', n_jobs=-1, cv=5, verbose=1)\n",
        "\n",
        "# Fit the model to the training data\n",
        "random_search.fit(X_train, y_train)\n",
        "\n",
        "# Make predictions\n",
        "y_pred = random_search.predict(X_test)\n",
        "y_pred_proba = random_search.predict_proba(X_test)[:, 1]\n",
        "\n",
        "# Evaluate the model\n",
        "xg_auc = roc_auc_score(y_test, y_pred_proba)\n",
        "\n",
        "print(f\"AUC: {xg_auc}\")"
      ],
      "metadata": {
        "colab": {
          "base_uri": "https://localhost:8080/"
        },
        "id": "9hwH_Nn7swHR",
        "outputId": "304a82da-fe7b-4aab-d131-c86ba3f5b65f"
      },
      "execution_count": 13,
      "outputs": [
        {
          "output_type": "stream",
          "name": "stdout",
          "text": [
            "Fitting 5 folds for each of 5 candidates, totalling 25 fits\n"
          ]
        },
        {
          "output_type": "stream",
          "name": "stderr",
          "text": [
            "/usr/local/lib/python3.10/dist-packages/xgboost/core.py:160: UserWarning: [20:14:15] WARNING: /workspace/src/context.cc:44: No visible GPU is found, setting device to CPU.\n",
            "  warnings.warn(smsg, UserWarning)\n"
          ]
        },
        {
          "output_type": "stream",
          "name": "stdout",
          "text": [
            "AUC: 0.8155738280198175\n"
          ]
        }
      ]
    },
    {
      "cell_type": "markdown",
      "source": [
        "### Now we use scaled data"
      ],
      "metadata": {
        "id": "flx8LkueuBpu"
      }
    },
    {
      "cell_type": "code",
      "source": [
        "# first make a deep copy of the data\n",
        "df2=df.copy(deep=True)\n",
        "\n",
        "# Make a scaler object : i.e. the StandardScaler object below which will know what to do make the standardization in the way we want\n",
        "scaler=StandardScaler()\n",
        "\n",
        "# fit the scaler : calling 'fit' means, the case of standardizing here, knowing the columns and the mean, standard deviation of the each of the columns\n",
        "scaler.fit(df2.iloc[:,2:9])\n",
        "\n",
        "# scaling the data\n",
        "df_scale =scaler.transform(df2.iloc[:,2:9])"
      ],
      "metadata": {
        "id": "rehVp_Bjs3xb"
      },
      "execution_count": 15,
      "outputs": []
    },
    {
      "cell_type": "code",
      "source": [],
      "metadata": {
        "id": "6p-pl_mKwXH2"
      },
      "execution_count": null,
      "outputs": []
    },
    {
      "cell_type": "code",
      "source": [
        "#Split the data into training and testing\n",
        "y=df['SeriousDlqin2yrs']\n",
        "\n",
        "X_train_s, X_test_s, y_train, y_test = train_test_split(df_scale,y ,\n",
        "                                   random_state=14,\n",
        "                                   test_size=0.2,\n",
        "                                   shuffle=True)"
      ],
      "metadata": {
        "id": "xmV4rL8pwM2U"
      },
      "execution_count": 21,
      "outputs": []
    },
    {
      "cell_type": "markdown",
      "source": [
        "#### Linear Regression"
      ],
      "metadata": {
        "id": "GtThegRi6c_I"
      }
    },
    {
      "cell_type": "code",
      "source": [
        "# Linear Regression with standardized data\n",
        "\n",
        "l_reg = LinearRegression(copy_X=True, fit_intercept=True)\n",
        "l_reg.fit(X_train_s,y_train)\n",
        "\n",
        "# Calculate the AUC\n",
        "l_reg_auc_s = roc_auc_score(y_test, l_reg.predict(X_test_s))\n",
        "l_reg_auc_s"
      ],
      "metadata": {
        "colab": {
          "base_uri": "https://localhost:8080/"
        },
        "id": "ZFPqqy8s5aGa",
        "outputId": "4c55057a-84ac-40ef-d425-733969c6a998"
      },
      "execution_count": 19,
      "outputs": [
        {
          "output_type": "execute_result",
          "data": {
            "text/plain": [
              "0.6852609404024366"
            ]
          },
          "metadata": {},
          "execution_count": 19
        }
      ]
    },
    {
      "cell_type": "markdown",
      "source": [
        "#### Ridge Regularization"
      ],
      "metadata": {
        "id": "DGs83DpB6lvC"
      }
    },
    {
      "cell_type": "code",
      "source": [
        "reg_ridge = Ridge(alpha=0.2, fit_intercept=True, copy_X=True)\n",
        "reg_ridge.fit(X_train_s, y_train)\n",
        "\n",
        "# Calculate the AUC\n",
        "ridge_auc_s = roc_auc_score(y_test, reg_ridge.predict(X_test_s))\n",
        "ridge_auc_s"
      ],
      "metadata": {
        "colab": {
          "base_uri": "https://localhost:8080/"
        },
        "id": "2xSD5PsT6hHY",
        "outputId": "c8387aa7-57de-4ae8-9688-d04f37dd686a"
      },
      "execution_count": 20,
      "outputs": [
        {
          "output_type": "execute_result",
          "data": {
            "text/plain": [
              "0.6852609130934181"
            ]
          },
          "metadata": {},
          "execution_count": 20
        }
      ]
    },
    {
      "cell_type": "code",
      "source": [],
      "metadata": {
        "id": "TPlbyOBs6pZF"
      },
      "execution_count": null,
      "outputs": []
    },
    {
      "cell_type": "markdown",
      "source": [
        "#### Lasso Regularization"
      ],
      "metadata": {
        "id": "6tzIhLhl6rTq"
      }
    },
    {
      "cell_type": "code",
      "source": [
        "reg_lasso = Lasso(alpha=0.2, fit_intercept=True, copy_X=True)\n",
        "reg_lasso.fit(X_train_s, y_train)\n",
        "\n",
        "# Calculate the AUC\n",
        "lasso_auc_s = roc_auc_score(y_test, reg_lasso.predict(X_test_s))\n",
        "lasso_auc_s"
      ],
      "metadata": {
        "colab": {
          "base_uri": "https://localhost:8080/"
        },
        "id": "kVS2qU0X6s7u",
        "outputId": "6f59a6ce-9e87-43e0-ec8b-41491a8820d4"
      },
      "execution_count": 22,
      "outputs": [
        {
          "output_type": "execute_result",
          "data": {
            "text/plain": [
              "0.5"
            ]
          },
          "metadata": {},
          "execution_count": 22
        }
      ]
    },
    {
      "cell_type": "markdown",
      "source": [
        "#### Logisitic Regression"
      ],
      "metadata": {
        "id": "I5Efpk_U64Ix"
      }
    },
    {
      "cell_type": "code",
      "source": [
        "#Define the model with random hyperparameters\n",
        "logit = LogisticRegression(n_jobs = -1)\n",
        "\n",
        "#Fit data into the model\n",
        "logit.fit(X_train_s, y_train)\n",
        "\n",
        "#Predict probabilities\n",
        "logit_scores_proba = logit.predict_proba(X_test_s)\n",
        "preds = logit_scores_proba[:,1]  # predictions\n",
        "\n",
        "log_auc_s = round(roc_auc_score(y_test,preds),5)\n",
        "\n",
        "#Printing area under curve\n",
        "print('AUC Score : ',  log_auc_s)"
      ],
      "metadata": {
        "colab": {
          "base_uri": "https://localhost:8080/"
        },
        "id": "HsuPSTse60pL",
        "outputId": "5e541fc4-7b62-4a8c-d7a2-85db15c0a7c0"
      },
      "execution_count": 23,
      "outputs": [
        {
          "output_type": "stream",
          "name": "stdout",
          "text": [
            "AUC Score :  0.65712\n"
          ]
        }
      ]
    },
    {
      "cell_type": "markdown",
      "source": [
        "#### Hyperparameter tuning"
      ],
      "metadata": {
        "id": "ygcPg4vN7EC0"
      }
    },
    {
      "cell_type": "code",
      "source": [
        "# Initialize logistic regression model\n",
        "model = LogisticRegression(solver='liblinear')\n",
        "\n",
        "# Define hyperparameters to tune\n",
        "hyperparameters = {'C': np.logspace(-4, 4, 10), 'penalty': ['l1', 'l2'],\n",
        "                   'max_iter': list(range(100,800,100))}\n",
        "\n",
        "# Define scorer based on AUC\n",
        "scorer = make_scorer(roc_auc_score, needs_proba=True)\n",
        "\n",
        "## GRIDSEARCH\n",
        "\n",
        "# Initialize GridSearchCV\n",
        "gridsearch = GridSearchCV(model, hyperparameters, scoring=scorer, cv=5)\n",
        "\n",
        "# Fit GridSearchCV on training data\n",
        "gridsearch.fit(X_train_s, y_train)\n",
        "\n",
        "# Get the best model\n",
        "best_model = gridsearch.best_estimator_\n",
        "\n",
        "\n",
        "# Predict probabilities on test data using the best model\n",
        "y_pred_proba = best_model.predict_proba(X_test_s)[:, 1]\n",
        "\n",
        "# Calculate AUC\n",
        "log_grid_auc_s = round(roc_auc_score(y_test, y_pred_proba),5)\n",
        "\n",
        "print(f'The AUC of the test set through gridsearch tuning is {log_grid_auc_s}')\n",
        "\n",
        "## RANDOMSEARCH\n",
        "\n",
        "# Initialize logistic regression model\n",
        "model = LogisticRegression(solver='liblinear')\n",
        "\n",
        "\n",
        "# Initialize RandomizedSearchCV\n",
        "randomsearch = RandomizedSearchCV(model, hyperparameters, scoring=scorer, cv=5)\n",
        "\n",
        "# Fit RandomizedSearchCV on training data\n",
        "randomsearch.fit(X_train_s, y_train)\n",
        "\n",
        "# Get the best model\n",
        "best_model = randomsearch.best_estimator_\n",
        "\n",
        "\n",
        "# Predict probabilities on test data using the best model\n",
        "y_pred_proba = best_model.predict_proba(X_test_s)[:, 1]\n",
        "\n",
        "# Calculate AUC\n",
        "log_random_auc_s = round(roc_auc_score(y_test, y_pred_proba),5)\n",
        "\n",
        "print(f'The AUC of the test set through randomsearch tuning is {log_random_auc_s}')\n"
      ],
      "metadata": {
        "colab": {
          "base_uri": "https://localhost:8080/"
        },
        "id": "1uG4GfxK699o",
        "outputId": "8095f706-639d-4e97-d543-70b95226f0ec"
      },
      "execution_count": 25,
      "outputs": [
        {
          "output_type": "stream",
          "name": "stdout",
          "text": [
            "The AUC of the test set through gridsearch tuning is 0.67749\n",
            "The AUC of the test set through randomsearch tuning is 0.66404\n"
          ]
        }
      ]
    },
    {
      "cell_type": "code",
      "source": [],
      "metadata": {
        "id": "Z2CKN9QD7iGL"
      },
      "execution_count": null,
      "outputs": []
    },
    {
      "cell_type": "markdown",
      "source": [
        "#### Random Forests"
      ],
      "metadata": {
        "id": "-MtRqOjW7zOz"
      }
    },
    {
      "cell_type": "code",
      "source": [
        "# Define the model\n",
        "rf = RandomForestClassifier()\n",
        "\n",
        "# Define the hyperparameters to tune\n",
        "param_grid = {\n",
        "    'n_estimators': [100, 200, 300, 400],\n",
        "    'max_depth': [10, 20, 30, 40],\n",
        "    'min_samples_split': [2, 5, 10],\n",
        "    'min_samples_leaf': [1, 2, 4],\n",
        "    'n_jobs': [-1]\n",
        "}\n",
        "\n",
        "# Define scorer based on AUC\n",
        "scorer = make_scorer(roc_auc_score, needs_proba=True)\n",
        "\n",
        "# Initialize RandomizedSearchCV\n",
        "randomsearch = RandomizedSearchCV(rf, param_grid, scoring=scorer, cv=5, verbose = 1)\n",
        "\n",
        "# Fit RandomizedSearchCV on training data\n",
        "randomsearch.fit(X_train_s, y_train)\n",
        "\n",
        "# Get the best model\n",
        "best_model = randomsearch.best_estimator_\n",
        "\n",
        "# Get the best parameters\n",
        "best_params = randomsearch.best_params_\n",
        "\n",
        "#print(f\"Best parameters: {best_params}\")\n",
        "\n",
        "# Fit the model with the best parameters\n",
        "rf_best = RandomForestClassifier(**best_params)\n",
        "rf_best.fit(X_train_s, y_train)\n",
        "\n",
        "# Make predictions\n",
        "y_pred = rf_best.predict(X_test_s)\n",
        "y_pred_proba = rf_best.predict_proba(X_test_s)[:, 1]\n",
        "\n",
        "# Evaluate the model\n",
        "rf_auc_s = round(roc_auc_score(y_test, y_pred_proba),5)\n",
        "\n",
        "print(f\"AUC: {rf_auc_s}\")"
      ],
      "metadata": {
        "colab": {
          "base_uri": "https://localhost:8080/"
        },
        "id": "8VfWI8QJ70wK",
        "outputId": "8368291f-9a4c-49a7-8bc5-7a13fcb51212"
      },
      "execution_count": 26,
      "outputs": [
        {
          "output_type": "stream",
          "name": "stdout",
          "text": [
            "Fitting 5 folds for each of 10 candidates, totalling 50 fits\n",
            "AUC: 0.8152\n"
          ]
        }
      ]
    },
    {
      "cell_type": "code",
      "source": [],
      "metadata": {
        "id": "SOI4lkgA8U7P"
      },
      "execution_count": null,
      "outputs": []
    },
    {
      "cell_type": "markdown",
      "source": [
        "#### XGBoost"
      ],
      "metadata": {
        "id": "TG09pJQt8ZjV"
      }
    },
    {
      "cell_type": "code",
      "source": [
        "# Define the model. If GPU is present, use GPU.\n",
        "model = XGBClassifier(tree_method='hist', device = 'cuda')\n",
        "\n",
        "# Define the parameters for the RandomizedSearch\n",
        "params = {\n",
        "    'min_child_weight': [1, 5, 10],\n",
        "    'gamma': [0.5, 1, 1.5, 2, 5],\n",
        "    'subsample': [0.6, 0.8, 1.0],\n",
        "    'colsample_bytree': [0.6, 0.8, 1.0],\n",
        "    'max_depth': [3, 4, 5]\n",
        "}\n",
        "\n",
        "#Initialize randomized search\n",
        "random_search = RandomizedSearchCV(model, param_distributions=params, n_iter=5,\n",
        "                                   scoring='roc_auc', n_jobs=-1, cv=5, verbose=1)\n",
        "\n",
        "# Fit the model to the training data\n",
        "random_search.fit(X_train_s, y_train)\n",
        "\n",
        "# Make predictions\n",
        "y_pred = random_search.predict(X_test_s)\n",
        "y_pred_proba = random_search.predict_proba(X_test_s)[:, 1]\n",
        "\n",
        "# Evaluate the model\n",
        "xg_auc_s = roc_auc_score(y_test, y_pred_proba)\n",
        "\n",
        "print(f\"AUC: {xg_auc_s}\")"
      ],
      "metadata": {
        "colab": {
          "base_uri": "https://localhost:8080/"
        },
        "id": "HlonjoDD8b0i",
        "outputId": "0bd74336-957d-4013-f146-617fcb2808ba"
      },
      "execution_count": 27,
      "outputs": [
        {
          "output_type": "stream",
          "name": "stdout",
          "text": [
            "Fitting 5 folds for each of 5 candidates, totalling 25 fits\n"
          ]
        },
        {
          "output_type": "stream",
          "name": "stderr",
          "text": [
            "/usr/local/lib/python3.10/dist-packages/xgboost/core.py:160: UserWarning: [21:05:28] WARNING: /workspace/src/context.cc:44: No visible GPU is found, setting device to CPU.\n",
            "  warnings.warn(smsg, UserWarning)\n"
          ]
        },
        {
          "output_type": "stream",
          "name": "stdout",
          "text": [
            "AUC: 0.8145396081811266\n"
          ]
        }
      ]
    },
    {
      "cell_type": "code",
      "source": [],
      "metadata": {
        "id": "enkPMvZP8leM"
      },
      "execution_count": null,
      "outputs": []
    }
  ]
}