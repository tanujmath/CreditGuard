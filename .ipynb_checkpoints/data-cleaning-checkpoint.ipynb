{
 "cells": [
  {
   "cell_type": "code",
   "execution_count": 3,
   "metadata": {
    "id": "iDtATENEBcTH"
   },
   "outputs": [],
   "source": [
    "import pandas as pd\n",
    "import numpy as np"
   ]
  },
  {
   "cell_type": "code",
   "execution_count": 5,
   "metadata": {},
   "outputs": [
    {
     "data": {
      "text/plain": [
       "(150000, 12)"
      ]
     },
     "execution_count": 5,
     "metadata": {},
     "output_type": "execute_result"
    }
   ],
   "source": [
    "path = 'https://raw.githubusercontent.com/tanujmath/CreditGuard/main/data/cs-training.csv'\n",
    "df = pd.read_csv(path)\n",
    "df.shape"
   ]
  },
  {
   "cell_type": "markdown",
   "metadata": {},
   "source": [
    "## Cleaning and Analyzing Data"
   ]
  },
  {
   "cell_type": "code",
   "execution_count": 6,
   "metadata": {},
   "outputs": [
    {
     "data": {
      "text/plain": [
       "Index(['ID', 'SeriousDlqin2yrs', 'RevolvingUtilizationOfUnsecuredLines', 'age',\n",
       "       'NumberOfTime30-59DaysPastDueNotWorse', 'DebtRatio', 'MonthlyIncome',\n",
       "       'NumberOfOpenCreditLinesAndLoans', 'NumberOfTimes90DaysLate',\n",
       "       'NumberRealEstateLoansOrLines', 'NumberOfTime60-89DaysPastDueNotWorse',\n",
       "       'NumberOfDependents'],\n",
       "      dtype='object')"
      ]
     },
     "execution_count": 6,
     "metadata": {},
     "output_type": "execute_result"
    }
   ],
   "source": [
    "# rename the first unnamed column to ID\n",
    "df.rename(columns={'Unnamed: 0':'ID'}, inplace=True)\n",
    "\n",
    "df.columns"
   ]
  },
  {
   "cell_type": "markdown",
   "metadata": {},
   "source": [
    "### NA values"
   ]
  },
  {
   "cell_type": "code",
   "execution_count": 7,
   "metadata": {
    "colab": {
     "base_uri": "https://localhost:8080/"
    },
    "id": "0BV9FgY3p8sK",
    "outputId": "9964d700-769c-4568-a6ad-31ebc0a3d991"
   },
   "outputs": [
    {
     "data": {
      "text/plain": [
       "ID                                          0\n",
       "SeriousDlqin2yrs                            0\n",
       "RevolvingUtilizationOfUnsecuredLines        0\n",
       "age                                         0\n",
       "NumberOfTime30-59DaysPastDueNotWorse        0\n",
       "DebtRatio                                   0\n",
       "MonthlyIncome                           29731\n",
       "NumberOfOpenCreditLinesAndLoans             0\n",
       "NumberOfTimes90DaysLate                     0\n",
       "NumberRealEstateLoansOrLines                0\n",
       "NumberOfTime60-89DaysPastDueNotWorse        0\n",
       "NumberOfDependents                       3924\n",
       "dtype: int64"
      ]
     },
     "execution_count": 7,
     "metadata": {},
     "output_type": "execute_result"
    }
   ],
   "source": [
    "df.isnull().sum()"
   ]
  },
  {
   "cell_type": "code",
   "execution_count": 34,
   "metadata": {
    "colab": {
     "base_uri": "https://localhost:8080/"
    },
    "id": "Y_WbzkH6axBy",
    "outputId": "f0206f5d-df11-450f-e7e6-8cae73522d1d"
   },
   "outputs": [
    {
     "name": "stdout",
     "output_type": "stream",
     "text": [
      "After dropping NA, size of df = (120269, 12)\n"
     ]
    }
   ],
   "source": [
    "# drop NA\n",
    "df.dropna(inplace=True)\n",
    "print(\"After dropping NA, size of df =\",df.shape)"
   ]
  },
  {
   "cell_type": "code",
   "execution_count": 42,
   "metadata": {},
   "outputs": [
    {
     "data": {
      "text/plain": [
       "Text(0.5, 1.0, 'Debt Ratio scatter plot')"
      ]
     },
     "execution_count": 42,
     "metadata": {},
     "output_type": "execute_result"
    },
    {
     "data": {
      "image/png": "[encoded data removed]",
      "text/plain": [
       "<Figure size 1080x576 with 3 Axes>"
      ]
     },
     "metadata": {
      "needs_background": "light"
     },
     "output_type": "display_data"
    }
   ],
   "source": [
    "f = plt.figure(figsize=(15,8))\n",
    "ax = f.add_subplot(231)\n",
    "ax2 = f.add_subplot(232)\n",
    "ax3 = f.add_subplot(233)\n",
    "ax4 = f.add_subplot(234)\n",
    "ax5 = f.add_subplot(235)\n",
    "ax6 = f.add_subplot(236)\n",
    "ax.hist(df['age'], bins=[3*i for i in range(36)])\n",
    "ax.set_title('Age Distribution')\n",
    "ax2.plot(df['ID'],df['DebtRatio'],marker='.')\n",
    "ax2.set_title('Debt Ratio scatter plot')\n",
    "ax3.hist(df['age'], bins=[3*i for i in range(36)])\n",
    "ax3.set_title('Debt Ratio scatter plot')"
   ]
  },
  {
   "cell_type": "markdown",
   "metadata": {
    "id": "f49lR7q5xZGc"
   },
   "source": [
    "### Age Analysis"
   ]
  },
  {
   "cell_type": "code",
   "execution_count": 6,
   "metadata": {
    "colab": {
     "base_uri": "https://localhost:8080/"
    },
    "id": "xs-sDPyWuYxF",
    "outputId": "63d08f5e-73dd-4ec5-b2dd-fcc0f51b4bb2"
   },
   "outputs": [
    {
     "data": {
      "text/plain": [
       "count    120269.000000\n",
       "mean         51.289792\n",
       "std          14.426684\n",
       "min           0.000000\n",
       "25%          40.000000\n",
       "50%          51.000000\n",
       "75%          61.000000\n",
       "max         103.000000\n",
       "Name: age, dtype: float64"
      ]
     },
     "execution_count": 6,
     "metadata": {},
     "output_type": "execute_result"
    }
   ],
   "source": [
    "df['age'].describe()"
   ]
  },
  {
   "cell_type": "code",
   "execution_count": 35,
   "metadata": {
    "id": "CdfkIQiOpoIB"
   },
   "outputs": [],
   "source": [
    "# deleting age = 0 rows\n",
    "df = df[df.age != 0]"
   ]
  },
  {
   "cell_type": "code",
   "execution_count": 8,
   "metadata": {
    "colab": {
     "base_uri": "https://localhost:8080/"
    },
    "id": "HQLl4JPGtudd",
    "outputId": "dea4a041-5fdb-476b-cfb2-4c6507a9a1a5"
   },
   "outputs": [
    {
     "data": {
      "text/plain": [
       "count    120268.000000\n",
       "mean         51.290219\n",
       "std          14.425986\n",
       "min          21.000000\n",
       "25%          40.000000\n",
       "50%          51.000000\n",
       "75%          61.000000\n",
       "max         103.000000\n",
       "Name: age, dtype: float64"
      ]
     },
     "execution_count": 8,
     "metadata": {},
     "output_type": "execute_result"
    }
   ],
   "source": [
    "df['age'].describe()\n",
    "# there was only 1 row with age = 0"
   ]
  },
  {
   "cell_type": "code",
   "execution_count": 9,
   "metadata": {
    "colab": {
     "base_uri": "https://localhost:8080/",
     "height": 54
    },
    "id": "mfkdRHvRzR0X",
    "outputId": "a0d46232-ace2-48ce-9899-1a480f14a5f9",
    "scrolled": false
   },
   "outputs": [
    {
     "data": {
      "image/png": "[encoded data removed]",
      "text/plain": [
       "<Figure size 576x432 with 1 Axes>"
      ]
     },
     "metadata": {
      "needs_background": "light"
     },
     "output_type": "display_data"
    }
   ],
   "source": [
    "x = df['ID']\n",
    "y = df['age']\n",
    "fig = plt.figure(figsize=(8,6))\n",
    "\n",
    "plt.xlabel(\"ID\")\n",
    "plt.ylabel(\"Age\")\n",
    "plt.scatter(df['ID'],df['age'],marker='.')\n",
    "plt.show()"
   ]
  },
  {
   "cell_type": "code",
   "execution_count": 10,
   "metadata": {
    "colab": {
     "base_uri": "https://localhost:8080/"
    },
    "id": "QYC-d01S56Q1",
    "outputId": "c830a6f4-3c84-4443-dc22-abb3ba9dcb47"
   },
   "outputs": [
    {
     "data": {
      "text/plain": [
       "count      82.000000\n",
       "mean     1466.682927\n",
       "std      1108.994817\n",
       "min         2.000000\n",
       "25%       320.000000\n",
       "50%      1396.000000\n",
       "75%      2642.000000\n",
       "max      3217.000000\n",
       "Name: count, dtype: float64"
      ]
     },
     "execution_count": 10,
     "metadata": {},
     "output_type": "execute_result"
    }
   ],
   "source": [
    "agedata = df['age'].value_counts().sort_index()\n",
    "agedata.describe()"
   ]
  },
  {
   "cell_type": "code",
   "execution_count": 37,
   "metadata": {
    "colab": {
     "base_uri": "https://localhost:8080/",
     "height": 1000
    },
    "id": "Cy8RlxLG2ksr",
    "outputId": "50f6e64e-d149-414f-8711-54ca7c9e97ee"
   },
   "outputs": [
    {
     "data": {
      "text/plain": [
       "(array([0.000e+00, 0.000e+00, 0.000e+00, 0.000e+00, 0.000e+00, 0.000e+00,\n",
       "        0.000e+00, 9.740e+02, 2.461e+03, 3.943e+03, 5.261e+03, 5.754e+03,\n",
       "        6.479e+03, 7.871e+03, 8.204e+03, 9.220e+03, 9.485e+03, 8.926e+03,\n",
       "        8.496e+03, 7.975e+03, 7.943e+03, 7.002e+03, 5.322e+03, 3.925e+03,\n",
       "        3.378e+03, 2.474e+03, 2.067e+03, 1.290e+03, 8.670e+02, 5.820e+02,\n",
       "        2.520e+02, 8.900e+01, 1.900e+01, 5.000e+00, 4.000e+00]),\n",
       " array([  0.,   3.,   6.,   9.,  12.,  15.,  18.,  21.,  24.,  27.,  30.,\n",
       "         33.,  36.,  39.,  42.,  45.,  48.,  51.,  54.,  57.,  60.,  63.,\n",
       "         66.,  69.,  72.,  75.,  78.,  81.,  84.,  87.,  90.,  93.,  96.,\n",
       "         99., 102., 105.]),\n",
       " <BarContainer object of 35 artists>)"
      ]
     },
     "execution_count": 37,
     "metadata": {},
     "output_type": "execute_result"
    },
    {
     "data": {
      "image/png": "[encoded data removed]",
      "text/plain": [
       "<Figure size 432x288 with 1 Axes>"
      ]
     },
     "metadata": {
      "needs_background": "light"
     },
     "output_type": "display_data"
    }
   ],
   "source": [
    "plt.hist(df['age'], bins=[3*i for i in range(36)])"
   ]
  },
  {
   "cell_type": "markdown",
   "metadata": {
    "id": "i0euzEk_Ftcz"
   },
   "source": [
    "### DebtRatio Analysis\n",
    "\n",
    "Maybe remove extremely high DebtRatios (threshold > 100?)"
   ]
  },
  {
   "cell_type": "code",
   "execution_count": 12,
   "metadata": {
    "colab": {
     "base_uri": "https://localhost:8080/",
     "height": 54
    },
    "id": "NsmoUM1FO-6F",
    "outputId": "c8374c0f-d668-4c5c-b197-e61516325d58"
   },
   "outputs": [
    {
     "data": {
      "image/png": "[encoded data removed]",
      "text/plain": [
       "<Figure size 576x432 with 1 Axes>"
      ]
     },
     "metadata": {
      "needs_background": "light"
     },
     "output_type": "display_data"
    }
   ],
   "source": [
    "x = df['ID']\n",
    "y_db = df['DebtRatio']\n",
    "fig = plt.figure(figsize=(8,6))\n",
    "\n",
    "plt.scatter(x,y_db,marker='.')\n",
    "plt.show()"
   ]
  },
  {
   "cell_type": "code",
   "execution_count": 13,
   "metadata": {
    "colab": {
     "base_uri": "https://localhost:8080/",
     "height": 54
    },
    "id": "RzV_0Wn6OcEp",
    "outputId": "88009647-0fe7-4b88-922f-2346a61a22d7"
   },
   "outputs": [
    {
     "data": {
      "image/png": "[encoded data removed]",
      "text/plain": [
       "<Figure size 576x432 with 1 Axes>"
      ]
     },
     "metadata": {
      "needs_background": "light"
     },
     "output_type": "display_data"
    }
   ],
   "source": [
    "x = df['MonthlyIncome']\n",
    "y_db = df['DebtRatio']\n",
    "fig = plt.figure(figsize=(8,6))\n",
    "\n",
    "plt.scatter(x,y_db,marker='.')\n",
    "plt.show()"
   ]
  },
  {
   "cell_type": "markdown",
   "metadata": {
    "id": "IcLD8KadHTJ0"
   },
   "source": [
    "# DebtRatio Outliers\n",
    "\n",
    "Based on Box Plots & Statistics (Higher bound: Q3+ 1.5*(Q3-Q1)), DebtRatio > 1.3 are mostly outliers. So we removed them."
   ]
  },
  {
   "cell_type": "code",
   "execution_count": 14,
   "metadata": {
    "colab": {
     "base_uri": "https://localhost:8080/"
    },
    "id": "5S49fVkVO4cn",
    "outputId": "c76f7080-8b13-45f5-b21b-11e494d482c4"
   },
   "outputs": [
    {
     "data": {
      "text/plain": [
       "(116099, 12)"
      ]
     },
     "execution_count": 14,
     "metadata": {},
     "output_type": "execute_result"
    }
   ],
   "source": [
    "# we need to remove the outliers for debt ratio but this is not the same as deleting rows with monthly income 0\n",
    "#df=df[df['DebtRatio']<=13000]\n",
    "df=df[df['DebtRatio']<=1.5]\n",
    "df.shape # 18 entries got removed"
   ]
  },
  {
   "cell_type": "code",
   "execution_count": 15,
   "metadata": {
    "colab": {
     "base_uri": "https://localhost:8080/",
     "height": 73
    },
    "id": "5Naxshq33UEp",
    "outputId": "833719b0-95ac-4d1c-f377-24a88a2e8f4f"
   },
   "outputs": [
    {
     "name": "stdout",
     "output_type": "stream",
     "text": [
      "1687\n"
     ]
    },
    {
     "data": {
      "image/png": "[encoded data removed]",
      "text/plain": [
       "<Figure size 432x288 with 1 Axes>"
      ]
     },
     "metadata": {
      "needs_background": "light"
     },
     "output_type": "display_data"
    }
   ],
   "source": [
    "plt.hist(y_db[y_db<1])#, bins=[0.01*i for i in range(1)])\n",
    "#plt.xlabel(\"Age (years)\")\n",
    "print(len(y_db[y_db>100]))"
   ]
  },
  {
   "cell_type": "markdown",
   "metadata": {
    "id": "8NUSFtAG3WBL"
   },
   "source": [
    "Try bins for age and the # NumberOfTime30-59DaysPastDueNotWorse and #NumberOfTime60-89DaysPastDueNotWorse in two graphs (or one if possible). [Using groupby]"
   ]
  },
  {
   "cell_type": "markdown",
   "metadata": {
    "id": "QKbPweuVxnHW"
   },
   "source": [
    "## Monthly Income Analysis"
   ]
  },
  {
   "cell_type": "code",
   "execution_count": 16,
   "metadata": {
    "colab": {
     "base_uri": "https://localhost:8080/"
    },
    "id": "lSJkXZL9t6DN",
    "outputId": "3bc4cff0-cc4b-4114-bc19-22a71e4f12ad"
   },
   "outputs": [
    {
     "data": {
      "text/plain": [
       "count    1.160990e+05\n",
       "mean     6.865562e+03\n",
       "std      1.459639e+04\n",
       "min      0.000000e+00\n",
       "25%      3.550000e+03\n",
       "50%      5.500000e+03\n",
       "75%      8.333000e+03\n",
       "max      3.008750e+06\n",
       "Name: MonthlyIncome, dtype: float64"
      ]
     },
     "execution_count": 16,
     "metadata": {},
     "output_type": "execute_result"
    }
   ],
   "source": [
    "df['MonthlyIncome'].describe()"
   ]
  },
  {
   "cell_type": "code",
   "execution_count": 17,
   "metadata": {
    "colab": {
     "base_uri": "https://localhost:8080/",
     "height": 54
    },
    "id": "f8j5qIXPxvtP",
    "outputId": "5e6fd702-fbbe-4e0d-aa24-6da281d4b979"
   },
   "outputs": [
    {
     "data": {
      "image/png": "[encoded data removed]",
      "text/plain": [
       "<Figure size 576x432 with 1 Axes>"
      ]
     },
     "metadata": {
      "needs_background": "light"
     },
     "output_type": "display_data"
    }
   ],
   "source": [
    "x = df['ID']\n",
    "y_db = df['MonthlyIncome']\n",
    "fig = plt.figure(figsize=(8,6))\n",
    "\n",
    "plt.scatter(x,y_db,marker='.')\n",
    "plt.show()"
   ]
  },
  {
   "cell_type": "code",
   "execution_count": 18,
   "metadata": {
    "colab": {
     "base_uri": "https://localhost:8080/"
    },
    "id": "DvqEp_T-RFv1",
    "outputId": "bb93f032-c4fd-4899-d141-8431545fb48c"
   },
   "outputs": [
    {
     "data": {
      "text/plain": [
       "(116070, 12)"
      ]
     },
     "execution_count": 18,
     "metadata": {},
     "output_type": "execute_result"
    }
   ],
   "source": [
    "# for a better model, we will cut off the income by 200,000\n",
    "df=df[df['MonthlyIncome']<=200000]\n",
    "df.shape # only 29 entries got removed"
   ]
  },
  {
   "cell_type": "code",
   "execution_count": 19,
   "metadata": {
    "colab": {
     "base_uri": "https://localhost:8080/",
     "height": 54
    },
    "id": "knG_pk1K6Q0v",
    "outputId": "1c520aee-30bf-4ad9-9f32-90fa67f64f8d"
   },
   "outputs": [
    {
     "data": {
      "image/png": "[encoded data removed]",
      "text/plain": [
       "<Figure size 576x432 with 1 Axes>"
      ]
     },
     "metadata": {
      "needs_background": "light"
     },
     "output_type": "display_data"
    }
   ],
   "source": [
    "x = df['ID']\n",
    "y_db = df['MonthlyIncome']\n",
    "fig = plt.figure(figsize=(8,6))\n",
    "\n",
    "plt.scatter(x,y_db,marker='.')\n",
    "plt.show()"
   ]
  },
  {
   "cell_type": "markdown",
   "metadata": {
    "id": "cf6kJGk3SlYX"
   },
   "source": [
    "### Number of Dependents Analysis"
   ]
  },
  {
   "cell_type": "code",
   "execution_count": 20,
   "metadata": {
    "colab": {
     "base_uri": "https://localhost:8080/",
     "height": 54
    },
    "id": "9w1WrRF1ScZz",
    "outputId": "6ed53993-d956-4692-f197-43d887328278"
   },
   "outputs": [
    {
     "data": {
      "image/png": "[encoded data removed]",
      "text/plain": [
       "<Figure size 576x432 with 1 Axes>"
      ]
     },
     "metadata": {
      "needs_background": "light"
     },
     "output_type": "display_data"
    }
   ],
   "source": [
    "x = df['ID']\n",
    "y_db = df['NumberOfDependents']\n",
    "fig = plt.figure(figsize=(8,6))\n",
    "\n",
    "plt.scatter(x,y_db,marker='.')\n",
    "plt.show()"
   ]
  },
  {
   "cell_type": "code",
   "execution_count": 21,
   "metadata": {
    "colab": {
     "base_uri": "https://localhost:8080/",
     "height": 54
    },
    "id": "pHwLyCzoScQ9",
    "outputId": "ac9366f5-e761-4c9c-cce0-b0bed2e9f677"
   },
   "outputs": [
    {
     "data": {
      "image/png": "[encoded data removed]",
      "text/plain": [
       "<Figure size 576x432 with 1 Axes>"
      ]
     },
     "metadata": {
      "needs_background": "light"
     },
     "output_type": "display_data"
    }
   ],
   "source": [
    "x = df['MonthlyIncome']\n",
    "y_db = df['NumberOfDependents']\n",
    "fig = plt.figure(figsize=(8,6))\n",
    "\n",
    "plt.scatter(x,y_db,marker='.')\n",
    "plt.show()"
   ]
  },
  {
   "cell_type": "code",
   "execution_count": 22,
   "metadata": {
    "colab": {
     "base_uri": "https://localhost:8080/"
    },
    "id": "N_qHm9ZtTT4K",
    "outputId": "9499ab69-b8cc-4b27-c6c0-200412822ea6"
   },
   "outputs": [
    {
     "data": {
      "text/plain": [
       "(116068, 12)"
      ]
     },
     "execution_count": 22,
     "metadata": {},
     "output_type": "execute_result"
    }
   ],
   "source": [
    "# for a better model, we will cut off the Number of Dependents by 10\n",
    "df=df[df['NumberOfDependents']<=10]\n",
    "df.shape # only 2 entries got removed"
   ]
  },
  {
   "cell_type": "markdown",
   "metadata": {
    "id": "IFMXEJSYUGYr"
   },
   "source": [
    "### RevolvingUtilizationOfUnsecuredLines Analysis"
   ]
  },
  {
   "cell_type": "code",
   "execution_count": 23,
   "metadata": {
    "colab": {
     "base_uri": "https://localhost:8080/",
     "height": 54
    },
    "id": "FY5BA07mTruX",
    "outputId": "19f52bb8-d73f-4ab7-d633-4af27941effc"
   },
   "outputs": [
    {
     "data": {
      "image/png": "[encoded data removed]",
      "text/plain": [
       "<Figure size 576x432 with 1 Axes>"
      ]
     },
     "metadata": {
      "needs_background": "light"
     },
     "output_type": "display_data"
    }
   ],
   "source": [
    "x = df['ID']\n",
    "y_db = df['RevolvingUtilizationOfUnsecuredLines']\n",
    "fig = plt.figure(figsize=(8,6))\n",
    "\n",
    "plt.scatter(x,y_db,marker='.')\n",
    "plt.show()"
   ]
  },
  {
   "cell_type": "code",
   "execution_count": 24,
   "metadata": {
    "colab": {
     "base_uri": "https://localhost:8080/",
     "height": 54
    },
    "id": "0srW4lrFVG_T",
    "outputId": "4c3c65c1-0411-4679-b3c6-49fd4876a0c1"
   },
   "outputs": [
    {
     "data": {
      "image/png": "[encoded data removed]",
      "text/plain": [
       "<Figure size 576x432 with 1 Axes>"
      ]
     },
     "metadata": {
      "needs_background": "light"
     },
     "output_type": "display_data"
    }
   ],
   "source": [
    "x = df['NumberOfOpenCreditLinesAndLoans']\n",
    "y_db = df['RevolvingUtilizationOfUnsecuredLines']\n",
    "fig = plt.figure(figsize=(8,6))\n",
    "\n",
    "plt.scatter(x,y_db,marker='.')\n",
    "plt.show()"
   ]
  },
  {
   "cell_type": "markdown",
   "metadata": {
    "id": "7ni5RKgNHvh4"
   },
   "source": [
    "# RevolvingUtilizationOfUnsecuredLines Outliers\n",
    "\n",
    "Based on Box Plots & Statistics (Higher bound: Q3+ 1.5*(Q3-Q1)), RevolvingUtilizationOfUnsecuredLines > 1.4 are mostly outliers. So we removed them."
   ]
  },
  {
   "cell_type": "code",
   "execution_count": 25,
   "metadata": {
    "colab": {
     "base_uri": "https://localhost:8080/"
    },
    "id": "hU_MW_kpVxkv",
    "outputId": "ef31a842-cb2b-42c0-99e4-55adde69baa2"
   },
   "outputs": [
    {
     "data": {
      "text/plain": [
       "(115628, 12)"
      ]
     },
     "execution_count": 25,
     "metadata": {},
     "output_type": "execute_result"
    }
   ],
   "source": [
    "# for a better model, we will cut off the RevolvingUtilizationOfUnsecuredLines by 12,500\n",
    "#df=df[df['RevolvingUtilizationOfUnsecuredLines']<=12500]\n",
    "df=df[df['RevolvingUtilizationOfUnsecuredLines']<=1.5]\n",
    "df.shape # ~30,000 entries got removed"
   ]
  },
  {
   "cell_type": "markdown",
   "metadata": {
    "id": "nPc_YVqIWXGb"
   },
   "source": [
    "### NumberOfOpenCreditLinesAndLoans Analysis"
   ]
  },
  {
   "cell_type": "code",
   "execution_count": 26,
   "metadata": {
    "colab": {
     "base_uri": "https://localhost:8080/",
     "height": 54
    },
    "id": "U1lJ5auvWY7w",
    "outputId": "0f2d5b34-5ff3-4483-9171-6a8a2ac36737"
   },
   "outputs": [
    {
     "data": {
      "image/png": "[encoded data removed]",
      "text/plain": [
       "<Figure size 576x432 with 1 Axes>"
      ]
     },
     "metadata": {
      "needs_background": "light"
     },
     "output_type": "display_data"
    }
   ],
   "source": [
    "x = df['ID']\n",
    "y = df['NumberOfOpenCreditLinesAndLoans']\n",
    "fig = plt.figure(figsize=(8,6))\n",
    "\n",
    "plt.scatter(x,y,marker='.')\n",
    "plt.show()  # this looks ok"
   ]
  },
  {
   "cell_type": "code",
   "execution_count": 27,
   "metadata": {
    "colab": {
     "base_uri": "https://localhost:8080/"
    },
    "id": "AoBSWaW-Wt4_",
    "outputId": "959bd6f1-93e1-49bc-c165-59ebefe4cc55"
   },
   "outputs": [
    {
     "data": {
      "text/plain": [
       "count    115628.000000\n",
       "mean          8.749801\n",
       "std           5.157934\n",
       "min           0.000000\n",
       "25%           5.000000\n",
       "50%           8.000000\n",
       "75%          11.000000\n",
       "max          57.000000\n",
       "Name: NumberOfOpenCreditLinesAndLoans, dtype: float64"
      ]
     },
     "execution_count": 27,
     "metadata": {},
     "output_type": "execute_result"
    }
   ],
   "source": [
    "df['NumberOfOpenCreditLinesAndLoans'].describe()"
   ]
  },
  {
   "cell_type": "markdown",
   "metadata": {
    "id": "KbKekRBQXHV-"
   },
   "source": [
    "### NumberRealEstateLoansOrLines analysis"
   ]
  },
  {
   "cell_type": "code",
   "execution_count": 28,
   "metadata": {
    "colab": {
     "base_uri": "https://localhost:8080/",
     "height": 54
    },
    "id": "yiHSlCASXFxa",
    "outputId": "413ded55-da9e-4671-a3fc-cc8d789c8936"
   },
   "outputs": [
    {
     "data": {
      "image/png": "[encoded data removed]",
      "text/plain": [
       "<Figure size 576x432 with 1 Axes>"
      ]
     },
     "metadata": {
      "needs_background": "light"
     },
     "output_type": "display_data"
    }
   ],
   "source": [
    "x = df['ID']\n",
    "y = df['NumberRealEstateLoansOrLines']\n",
    "fig = plt.figure(figsize=(8,6))\n",
    "\n",
    "plt.scatter(x,y,marker='.')\n",
    "plt.show()"
   ]
  },
  {
   "cell_type": "code",
   "execution_count": 29,
   "metadata": {
    "colab": {
     "base_uri": "https://localhost:8080/"
    },
    "id": "OCqMTxQBXFp8",
    "outputId": "a90a9908-eb7f-4274-bab5-57f08fca9a3b"
   },
   "outputs": [
    {
     "data": {
      "text/plain": [
       "(115627, 12)"
      ]
     },
     "execution_count": 29,
     "metadata": {},
     "output_type": "execute_result"
    }
   ],
   "source": [
    "# for a better model, we will cut off the NumberRealEstateLoansOrLines by 30\n",
    "df=df[df['NumberRealEstateLoansOrLines']<=30]\n",
    "df.shape # only 2 entries got removed"
   ]
  },
  {
   "cell_type": "code",
   "execution_count": 30,
   "metadata": {
    "colab": {
     "base_uri": "https://localhost:8080/",
     "height": 444
    },
    "id": "Kxbkff-GXFgv",
    "outputId": "2ed241ee-99b6-4cfd-cdcb-6951530fa8a5"
   },
   "outputs": [
    {
     "data": {
      "text/html": [
       "<div>\n",
       "<style scoped>\n",
       "    .dataframe tbody tr th:only-of-type {\n",
       "        vertical-align: middle;\n",
       "    }\n",
       "\n",
       "    .dataframe tbody tr th {\n",
       "        vertical-align: top;\n",
       "    }\n",
       "\n",
       "    .dataframe thead th {\n",
       "        text-align: right;\n",
       "    }\n",
       "</style>\n",
       "<table border=\"1\" class=\"dataframe\">\n",
       "  <thead>\n",
       "    <tr style=\"text-align: right;\">\n",
       "      <th></th>\n",
       "      <th>ID</th>\n",
       "      <th>SeriousDlqin2yrs</th>\n",
       "      <th>RevolvingUtilizationOfUnsecuredLines</th>\n",
       "      <th>age</th>\n",
       "      <th>NumberOfTime30-59DaysPastDueNotWorse</th>\n",
       "      <th>DebtRatio</th>\n",
       "      <th>MonthlyIncome</th>\n",
       "      <th>NumberOfOpenCreditLinesAndLoans</th>\n",
       "      <th>NumberOfTimes90DaysLate</th>\n",
       "      <th>NumberRealEstateLoansOrLines</th>\n",
       "      <th>NumberOfTime60-89DaysPastDueNotWorse</th>\n",
       "      <th>NumberOfDependents</th>\n",
       "    </tr>\n",
       "  </thead>\n",
       "  <tbody>\n",
       "    <tr>\n",
       "      <th>0</th>\n",
       "      <td>1</td>\n",
       "      <td>1</td>\n",
       "      <td>0.766127</td>\n",
       "      <td>45</td>\n",
       "      <td>2</td>\n",
       "      <td>0.802982</td>\n",
       "      <td>9120.0</td>\n",
       "      <td>13</td>\n",
       "      <td>0</td>\n",
       "      <td>6</td>\n",
       "      <td>0</td>\n",
       "      <td>2.0</td>\n",
       "    </tr>\n",
       "    <tr>\n",
       "      <th>1</th>\n",
       "      <td>2</td>\n",
       "      <td>0</td>\n",
       "      <td>0.957151</td>\n",
       "      <td>40</td>\n",
       "      <td>0</td>\n",
       "      <td>0.121876</td>\n",
       "      <td>2600.0</td>\n",
       "      <td>4</td>\n",
       "      <td>0</td>\n",
       "      <td>0</td>\n",
       "      <td>0</td>\n",
       "      <td>1.0</td>\n",
       "    </tr>\n",
       "    <tr>\n",
       "      <th>2</th>\n",
       "      <td>3</td>\n",
       "      <td>0</td>\n",
       "      <td>0.658180</td>\n",
       "      <td>38</td>\n",
       "      <td>1</td>\n",
       "      <td>0.085113</td>\n",
       "      <td>3042.0</td>\n",
       "      <td>2</td>\n",
       "      <td>1</td>\n",
       "      <td>0</td>\n",
       "      <td>0</td>\n",
       "      <td>0.0</td>\n",
       "    </tr>\n",
       "    <tr>\n",
       "      <th>3</th>\n",
       "      <td>4</td>\n",
       "      <td>0</td>\n",
       "      <td>0.233810</td>\n",
       "      <td>30</td>\n",
       "      <td>0</td>\n",
       "      <td>0.036050</td>\n",
       "      <td>3300.0</td>\n",
       "      <td>5</td>\n",
       "      <td>0</td>\n",
       "      <td>0</td>\n",
       "      <td>0</td>\n",
       "      <td>0.0</td>\n",
       "    </tr>\n",
       "    <tr>\n",
       "      <th>4</th>\n",
       "      <td>5</td>\n",
       "      <td>0</td>\n",
       "      <td>0.907239</td>\n",
       "      <td>49</td>\n",
       "      <td>1</td>\n",
       "      <td>0.024926</td>\n",
       "      <td>63588.0</td>\n",
       "      <td>7</td>\n",
       "      <td>0</td>\n",
       "      <td>1</td>\n",
       "      <td>0</td>\n",
       "      <td>0.0</td>\n",
       "    </tr>\n",
       "    <tr>\n",
       "      <th>...</th>\n",
       "      <td>...</td>\n",
       "      <td>...</td>\n",
       "      <td>...</td>\n",
       "      <td>...</td>\n",
       "      <td>...</td>\n",
       "      <td>...</td>\n",
       "      <td>...</td>\n",
       "      <td>...</td>\n",
       "      <td>...</td>\n",
       "      <td>...</td>\n",
       "      <td>...</td>\n",
       "      <td>...</td>\n",
       "    </tr>\n",
       "    <tr>\n",
       "      <th>149994</th>\n",
       "      <td>149995</td>\n",
       "      <td>0</td>\n",
       "      <td>0.385742</td>\n",
       "      <td>50</td>\n",
       "      <td>0</td>\n",
       "      <td>0.404293</td>\n",
       "      <td>3400.0</td>\n",
       "      <td>7</td>\n",
       "      <td>0</td>\n",
       "      <td>0</td>\n",
       "      <td>0</td>\n",
       "      <td>0.0</td>\n",
       "    </tr>\n",
       "    <tr>\n",
       "      <th>149995</th>\n",
       "      <td>149996</td>\n",
       "      <td>0</td>\n",
       "      <td>0.040674</td>\n",
       "      <td>74</td>\n",
       "      <td>0</td>\n",
       "      <td>0.225131</td>\n",
       "      <td>2100.0</td>\n",
       "      <td>4</td>\n",
       "      <td>0</td>\n",
       "      <td>1</td>\n",
       "      <td>0</td>\n",
       "      <td>0.0</td>\n",
       "    </tr>\n",
       "    <tr>\n",
       "      <th>149996</th>\n",
       "      <td>149997</td>\n",
       "      <td>0</td>\n",
       "      <td>0.299745</td>\n",
       "      <td>44</td>\n",
       "      <td>0</td>\n",
       "      <td>0.716562</td>\n",
       "      <td>5584.0</td>\n",
       "      <td>4</td>\n",
       "      <td>0</td>\n",
       "      <td>1</td>\n",
       "      <td>0</td>\n",
       "      <td>2.0</td>\n",
       "    </tr>\n",
       "    <tr>\n",
       "      <th>149998</th>\n",
       "      <td>149999</td>\n",
       "      <td>0</td>\n",
       "      <td>0.000000</td>\n",
       "      <td>30</td>\n",
       "      <td>0</td>\n",
       "      <td>0.000000</td>\n",
       "      <td>5716.0</td>\n",
       "      <td>4</td>\n",
       "      <td>0</td>\n",
       "      <td>0</td>\n",
       "      <td>0</td>\n",
       "      <td>0.0</td>\n",
       "    </tr>\n",
       "    <tr>\n",
       "      <th>149999</th>\n",
       "      <td>150000</td>\n",
       "      <td>0</td>\n",
       "      <td>0.850283</td>\n",
       "      <td>64</td>\n",
       "      <td>0</td>\n",
       "      <td>0.249908</td>\n",
       "      <td>8158.0</td>\n",
       "      <td>8</td>\n",
       "      <td>0</td>\n",
       "      <td>2</td>\n",
       "      <td>0</td>\n",
       "      <td>0.0</td>\n",
       "    </tr>\n",
       "  </tbody>\n",
       "</table>\n",
       "<p>115627 rows × 12 columns</p>\n",
       "</div>"
      ],
      "text/plain": [
       "            ID  SeriousDlqin2yrs  RevolvingUtilizationOfUnsecuredLines  age  \\\n",
       "0            1                 1                              0.766127   45   \n",
       "1            2                 0                              0.957151   40   \n",
       "2            3                 0                              0.658180   38   \n",
       "3            4                 0                              0.233810   30   \n",
       "4            5                 0                              0.907239   49   \n",
       "...        ...               ...                                   ...  ...   \n",
       "149994  149995                 0                              0.385742   50   \n",
       "149995  149996                 0                              0.040674   74   \n",
       "149996  149997                 0                              0.299745   44   \n",
       "149998  149999                 0                              0.000000   30   \n",
       "149999  150000                 0                              0.850283   64   \n",
       "\n",
       "        NumberOfTime30-59DaysPastDueNotWorse  DebtRatio  MonthlyIncome  \\\n",
       "0                                          2   0.802982         9120.0   \n",
       "1                                          0   0.121876         2600.0   \n",
       "2                                          1   0.085113         3042.0   \n",
       "3                                          0   0.036050         3300.0   \n",
       "4                                          1   0.024926        63588.0   \n",
       "...                                      ...        ...            ...   \n",
       "149994                                     0   0.404293         3400.0   \n",
       "149995                                     0   0.225131         2100.0   \n",
       "149996                                     0   0.716562         5584.0   \n",
       "149998                                     0   0.000000         5716.0   \n",
       "149999                                     0   0.249908         8158.0   \n",
       "\n",
       "        NumberOfOpenCreditLinesAndLoans  NumberOfTimes90DaysLate  \\\n",
       "0                                    13                        0   \n",
       "1                                     4                        0   \n",
       "2                                     2                        1   \n",
       "3                                     5                        0   \n",
       "4                                     7                        0   \n",
       "...                                 ...                      ...   \n",
       "149994                                7                        0   \n",
       "149995                                4                        0   \n",
       "149996                                4                        0   \n",
       "149998                                4                        0   \n",
       "149999                                8                        0   \n",
       "\n",
       "        NumberRealEstateLoansOrLines  NumberOfTime60-89DaysPastDueNotWorse  \\\n",
       "0                                  6                                     0   \n",
       "1                                  0                                     0   \n",
       "2                                  0                                     0   \n",
       "3                                  0                                     0   \n",
       "4                                  1                                     0   \n",
       "...                              ...                                   ...   \n",
       "149994                             0                                     0   \n",
       "149995                             1                                     0   \n",
       "149996                             1                                     0   \n",
       "149998                             0                                     0   \n",
       "149999                             2                                     0   \n",
       "\n",
       "        NumberOfDependents  \n",
       "0                      2.0  \n",
       "1                      1.0  \n",
       "2                      0.0  \n",
       "3                      0.0  \n",
       "4                      0.0  \n",
       "...                    ...  \n",
       "149994                 0.0  \n",
       "149995                 0.0  \n",
       "149996                 2.0  \n",
       "149998                 0.0  \n",
       "149999                 0.0  \n",
       "\n",
       "[115627 rows x 12 columns]"
      ]
     },
     "execution_count": 30,
     "metadata": {},
     "output_type": "execute_result"
    }
   ],
   "source": [
    "df\n",
    "#df_1 = df[df[\"NumberOfTime30-59DaysPastDueNotWorse\"]>1]\n",
    "#df_1[\"NumberOfTime30-59DaysPastDueNotWorse\"].describe()\n",
    "#df['RevolvingUtilizationOfUnsecuredLines'].max(), df['RevolvingUtilizationOfUnsecuredLines'].min()\n",
    "#df['DebtRatio'].max(), df['DebtRatio'].min()"
   ]
  },
  {
   "cell_type": "markdown",
   "metadata": {
    "id": "ZyeCn0vXGqId"
   },
   "source": [
    "#Exploratory Data Analysis\n",
    "\n",
    "## Tentative things to try (Ankur and Aravind's Woprkspace)\n",
    "\n",
    "\n",
    "*   Box plots\n",
    "*   Correlation Matrix\n",
    "*   Heat maps\n",
    "*   Corner plots\n",
    "*   Scatter plots\n",
    "\n",
    "\n"
   ]
  },
  {
   "cell_type": "markdown",
   "metadata": {
    "id": "2Q_BU3nByuSC"
   },
   "source": [
    "# Box Plots"
   ]
  },
  {
   "cell_type": "code",
   "execution_count": 31,
   "metadata": {
    "id": "Z4g6RV1wGu4x"
   },
   "outputs": [],
   "source": [
    "min_age=df['age'].min()\n",
    "max_age=df['age'].max()\n",
    "intv_width=10\n",
    "\n",
    "#for"
   ]
  },
  {
   "cell_type": "code",
   "execution_count": 32,
   "metadata": {
    "id": "CJ8ln4M9g_U0"
   },
   "outputs": [],
   "source": [
    "#Heat maps"
   ]
  },
  {
   "cell_type": "code",
   "execution_count": 33,
   "metadata": {
    "id": "CSApa-_-hCoX"
   },
   "outputs": [],
   "source": [
    "#Corner plots"
   ]
  },
  {
   "cell_type": "markdown",
   "metadata": {
    "id": "EjYZo0Xwx7ud"
   },
   "source": [
    "# Correlation Matrix\n",
    "\n",
    "\n",
    "\n"
   ]
  },
  {
   "cell_type": "code",
   "execution_count": 34,
   "metadata": {
    "colab": {
     "base_uri": "https://localhost:8080/",
     "height": 92
    },
    "id": "A6MMJ4taX9kI",
    "outputId": "d6c318e8-6a11-4e37-cd1a-d1077fcc0559"
   },
   "outputs": [
    {
     "data": {
      "text/plain": [
       "<Axes: >"
      ]
     },
     "execution_count": 34,
     "metadata": {},
     "output_type": "execute_result"
    },
    {
     "data": {
      "image/png": "[encoded data removed]",
      "text/plain": [
       "<Figure size 864x720 with 2 Axes>"
      ]
     },
     "metadata": {
      "needs_background": "light"
     },
     "output_type": "display_data"
    }
   ],
   "source": [
    "#Correlation\n",
    "import seaborn as sns\n",
    "corr = df.corr()\n",
    "\n",
    "plt.figure(figsize=(12, 10))\n",
    "sns.heatmap(corr, annot=True, vmin=-1.0, cmap=\"mako\")"
   ]
  },
  {
   "cell_type": "code",
   "execution_count": 35,
   "metadata": {
    "id": "-PVWTKQ55Nz9"
   },
   "outputs": [],
   "source": [
    "#sns.pairplot(df, vars=[\"age\",\n",
    "#                       \"NumberOfOpenCreditLinesAndLoans\",\n",
    "#                       \"MonthlyIncome\",\n",
    "#                       \"NumberRealEstateLoansOrLines\"])\n",
    "#plt.show()\n",
    "\n"
   ]
  },
  {
   "cell_type": "code",
   "execution_count": 36,
   "metadata": {
    "id": "s82q-Ye9CdKu"
   },
   "outputs": [],
   "source": [
    "#df['RevolvingUtilizationOfUnsecuredLines'] = 1e+6*df['RevolvingUtilizationOfUnsecuredLines']\n",
    "#df['RevolvingUtilizationOfUnsecuredLines'].describe(), df['DebtRatio'].describe()\n",
    "\n",
    "#sns.pairplot(df, vars=[\"age\",\n",
    "#                       \"RevolvingUtilizationOfUnsecuredLines\"])\n",
    "#sns.pairplot(df, vars=[\"age\",\n",
    "#                       \"DebtRatio\"])"
   ]
  },
  {
   "cell_type": "code",
   "execution_count": 37,
   "metadata": {
    "id": "UsPqLzdAg1b9"
   },
   "outputs": [],
   "source": [
    "# scatterplot for df\n",
    "#from pandas.plotting import scatter_matrix\n",
    "#scatter_matrix(df, figsize=(14,14), alpha=.9)\n",
    "\n",
    "#plt.show()"
   ]
  },
  {
   "cell_type": "markdown",
   "metadata": {
    "id": "NkoE1XQdvziU"
   },
   "source": [
    "#Soumya's Workspace"
   ]
  },
  {
   "cell_type": "code",
   "execution_count": 38,
   "metadata": {
    "colab": {
     "base_uri": "https://localhost:8080/",
     "height": 226
    },
    "id": "qnB0i5Q4H00u",
    "outputId": "d7e9b80c-10b5-482d-c47e-442bec696c1a"
   },
   "outputs": [
    {
     "data": {
      "text/html": [
       "<div>\n",
       "<style scoped>\n",
       "    .dataframe tbody tr th:only-of-type {\n",
       "        vertical-align: middle;\n",
       "    }\n",
       "\n",
       "    .dataframe tbody tr th {\n",
       "        vertical-align: top;\n",
       "    }\n",
       "\n",
       "    .dataframe thead th {\n",
       "        text-align: right;\n",
       "    }\n",
       "</style>\n",
       "<table border=\"1\" class=\"dataframe\">\n",
       "  <thead>\n",
       "    <tr style=\"text-align: right;\">\n",
       "      <th></th>\n",
       "      <th>ID</th>\n",
       "      <th>SeriousDlqin2yrs</th>\n",
       "      <th>RevolvingUtilizationOfUnsecuredLines</th>\n",
       "      <th>age</th>\n",
       "      <th>NumberOfTime30-59DaysPastDueNotWorse</th>\n",
       "      <th>DebtRatio</th>\n",
       "      <th>MonthlyIncome</th>\n",
       "      <th>NumberOfOpenCreditLinesAndLoans</th>\n",
       "      <th>NumberOfTimes90DaysLate</th>\n",
       "      <th>NumberRealEstateLoansOrLines</th>\n",
       "      <th>NumberOfTime60-89DaysPastDueNotWorse</th>\n",
       "      <th>NumberOfDependents</th>\n",
       "    </tr>\n",
       "  </thead>\n",
       "  <tbody>\n",
       "    <tr>\n",
       "      <th>0</th>\n",
       "      <td>1</td>\n",
       "      <td>1</td>\n",
       "      <td>0.766127</td>\n",
       "      <td>45</td>\n",
       "      <td>2</td>\n",
       "      <td>0.802982</td>\n",
       "      <td>9120.0</td>\n",
       "      <td>13</td>\n",
       "      <td>0</td>\n",
       "      <td>6</td>\n",
       "      <td>0</td>\n",
       "      <td>2.0</td>\n",
       "    </tr>\n",
       "    <tr>\n",
       "      <th>1</th>\n",
       "      <td>2</td>\n",
       "      <td>0</td>\n",
       "      <td>0.957151</td>\n",
       "      <td>40</td>\n",
       "      <td>0</td>\n",
       "      <td>0.121876</td>\n",
       "      <td>2600.0</td>\n",
       "      <td>4</td>\n",
       "      <td>0</td>\n",
       "      <td>0</td>\n",
       "      <td>0</td>\n",
       "      <td>1.0</td>\n",
       "    </tr>\n",
       "    <tr>\n",
       "      <th>2</th>\n",
       "      <td>3</td>\n",
       "      <td>0</td>\n",
       "      <td>0.658180</td>\n",
       "      <td>38</td>\n",
       "      <td>1</td>\n",
       "      <td>0.085113</td>\n",
       "      <td>3042.0</td>\n",
       "      <td>2</td>\n",
       "      <td>1</td>\n",
       "      <td>0</td>\n",
       "      <td>0</td>\n",
       "      <td>0.0</td>\n",
       "    </tr>\n",
       "    <tr>\n",
       "      <th>3</th>\n",
       "      <td>4</td>\n",
       "      <td>0</td>\n",
       "      <td>0.233810</td>\n",
       "      <td>30</td>\n",
       "      <td>0</td>\n",
       "      <td>0.036050</td>\n",
       "      <td>3300.0</td>\n",
       "      <td>5</td>\n",
       "      <td>0</td>\n",
       "      <td>0</td>\n",
       "      <td>0</td>\n",
       "      <td>0.0</td>\n",
       "    </tr>\n",
       "    <tr>\n",
       "      <th>4</th>\n",
       "      <td>5</td>\n",
       "      <td>0</td>\n",
       "      <td>0.907239</td>\n",
       "      <td>49</td>\n",
       "      <td>1</td>\n",
       "      <td>0.024926</td>\n",
       "      <td>63588.0</td>\n",
       "      <td>7</td>\n",
       "      <td>0</td>\n",
       "      <td>1</td>\n",
       "      <td>0</td>\n",
       "      <td>0.0</td>\n",
       "    </tr>\n",
       "  </tbody>\n",
       "</table>\n",
       "</div>"
      ],
      "text/plain": [
       "   ID  SeriousDlqin2yrs  RevolvingUtilizationOfUnsecuredLines  age  \\\n",
       "0   1                 1                              0.766127   45   \n",
       "1   2                 0                              0.957151   40   \n",
       "2   3                 0                              0.658180   38   \n",
       "3   4                 0                              0.233810   30   \n",
       "4   5                 0                              0.907239   49   \n",
       "\n",
       "   NumberOfTime30-59DaysPastDueNotWorse  DebtRatio  MonthlyIncome  \\\n",
       "0                                     2   0.802982         9120.0   \n",
       "1                                     0   0.121876         2600.0   \n",
       "2                                     1   0.085113         3042.0   \n",
       "3                                     0   0.036050         3300.0   \n",
       "4                                     1   0.024926        63588.0   \n",
       "\n",
       "   NumberOfOpenCreditLinesAndLoans  NumberOfTimes90DaysLate  \\\n",
       "0                               13                        0   \n",
       "1                                4                        0   \n",
       "2                                2                        1   \n",
       "3                                5                        0   \n",
       "4                                7                        0   \n",
       "\n",
       "   NumberRealEstateLoansOrLines  NumberOfTime60-89DaysPastDueNotWorse  \\\n",
       "0                             6                                     0   \n",
       "1                             0                                     0   \n",
       "2                             0                                     0   \n",
       "3                             0                                     0   \n",
       "4                             1                                     0   \n",
       "\n",
       "   NumberOfDependents  \n",
       "0                 2.0  \n",
       "1                 1.0  \n",
       "2                 0.0  \n",
       "3                 0.0  \n",
       "4                 0.0  "
      ]
     },
     "execution_count": 38,
     "metadata": {},
     "output_type": "execute_result"
    }
   ],
   "source": [
    "# first make a deep copy of the data\n",
    "df2=df.copy(deep=True)\n",
    "# standardization of columns (subtract mean and divide by variance)\n",
    "## import StandardScaler\n",
    "from sklearn.preprocessing import StandardScaler\n",
    "## Make a scaler object : i.e. the StandardScaler object below which will know what to do make the standardization in the way we want\n",
    "scaler=StandardScaler()\n",
    "\n",
    "## fit the scaler : calling 'fit' means, the case of standardizing here, knowing the columns and the mean, standard deviation of the each of the columns\n",
    "scaler.fit(df2)\n",
    "\n",
    "df2.head()\n"
   ]
  },
  {
   "cell_type": "code",
   "execution_count": 39,
   "metadata": {
    "colab": {
     "base_uri": "https://localhost:8080/"
    },
    "id": "7g2MDHNhkrLm",
    "outputId": "9e48d3a5-0903-4459-d8b3-0e0855bb40b6"
   },
   "outputs": [
    {
     "name": "stdout",
     "output_type": "stream",
     "text": [
      "94980 1292544\n"
     ]
    }
   ],
   "source": [
    "df_scale =scaler.transform(df2)\n",
    "\n",
    "print(np.size(df2[df2[\"SeriousDlqin2yrs\"]==1]),np.size(df2[df2[\"SeriousDlqin2yrs\"]==0]))"
   ]
  },
  {
   "cell_type": "code",
   "execution_count": 40,
   "metadata": {
    "colab": {
     "base_uri": "https://localhost:8080/"
    },
    "id": "brA6p4kgmRpg",
    "outputId": "1ae8f0b1-312f-4fb3-a835-dbad97c2e4c8"
   },
   "outputs": [
    {
     "name": "stdout",
     "output_type": "stream",
     "text": [
      "mean of standardized 0 th column of df: 2.9889903454531617e-16\n",
      "variance of standardized 0 th column of df: 1.0\n",
      "\n",
      "mean of standardized 1 th column of df: -2.820613833394328e-17\n",
      "variance of standardized 1 th column of df: 1.0000000000000002\n",
      "\n",
      "mean of standardized 2 th column of df: 7.669119965307454e-17\n",
      "variance of standardized 2 th column of df: 0.9999999999999999\n",
      "\n",
      "mean of standardized 3 th column of df: 5.438438436936777e-17\n",
      "variance of standardized 3 th column of df: 0.9999999999999999\n",
      "\n",
      "mean of standardized 4 th column of df: 7.220525608362387e-18\n",
      "variance of standardized 4 th column of df: 0.9999999999999998\n",
      "\n",
      "mean of standardized 5 th column of df: 1.7022005051203243e-16\n",
      "variance of standardized 5 th column of df: 0.9999999999999998\n",
      "\n",
      "mean of standardized 6 th column of df: 6.2373050999896364e-18\n",
      "variance of standardized 6 th column of df: 1.0\n",
      "\n",
      "mean of standardized 7 th column of df: 6.145128177329691e-18\n",
      "variance of standardized 7 th column of df: 1.0000000000000002\n",
      "\n",
      "mean of standardized 8 th column of df: 1.7098819153419865e-17\n",
      "variance of standardized 8 th column of df: 0.9999999999999993\n",
      "\n",
      "mean of standardized 9 th column of df: -6.194289202748329e-17\n",
      "variance of standardized 9 th column of df: 1.0000000000000002\n",
      "\n",
      "mean of standardized 10 th column of df: 2.4887769118185248e-18\n",
      "variance of standardized 10 th column of df: 0.9999999999999989\n",
      "\n",
      "mean of standardized 11 th column of df: 5.0605130540310007e-17\n",
      "variance of standardized 11 th column of df: 1.0000000000000004\n",
      "\n"
     ]
    }
   ],
   "source": [
    "for i in range (12):\n",
    "  print(f\"mean of standardized {i} th column of df:\",np.mean(df_scale[:,i]))\n",
    "  print(f\"variance of standardized {i} th column of df:\",np.var(df_scale[:,i]))\n",
    "  print()"
   ]
  },
  {
   "cell_type": "code",
   "execution_count": 41,
   "metadata": {
    "colab": {
     "base_uri": "https://localhost:8080/"
    },
    "id": "7Kh3WEW6oezw",
    "outputId": "cc4d8354-aa7e-4c36-fc36-f6e74d09b4e2"
   },
   "outputs": [
    {
     "data": {
      "text/plain": [
       "array([[-1.73290451,  3.68898242,  1.25152322, ...,  4.46838652,\n",
       "        -0.05447049,  1.00284853],\n",
       "       [-1.73288141, -0.27107746,  1.79832226, ..., -0.93844627,\n",
       "        -0.05447049,  0.12924237],\n",
       "       [-1.7328583 , -0.27107746,  0.94253117, ..., -0.93844627,\n",
       "        -0.05447049, -0.7443638 ],\n",
       "       ...,\n",
       "       [ 1.73235397, -0.27107746, -0.08347336, ..., -0.03730748,\n",
       "        -0.05447049,  1.00284853],\n",
       "       [ 1.73240017, -0.27107746, -0.94148076, ..., -0.93844627,\n",
       "        -0.05447049, -0.7443638 ],\n",
       "       [ 1.73242327, -0.27107746,  1.49241708, ...,  0.86383132,\n",
       "        -0.05447049, -0.7443638 ]])"
      ]
     },
     "execution_count": 41,
     "metadata": {},
     "output_type": "execute_result"
    }
   ],
   "source": [
    "df_scale\n",
    "\n",
    "df_scale.shape\n",
    "\n",
    "df_scale[:,1]\n",
    "\n",
    "df_scale"
   ]
  },
  {
   "cell_type": "markdown",
   "metadata": {
    "id": "EMjaNNXBEHE0"
   },
   "source": [
    "## Model without normalizing the Serious Delinqu...column"
   ]
  },
  {
   "cell_type": "code",
   "execution_count": 42,
   "metadata": {
    "id": "WilgvDpWqxB0"
   },
   "outputs": [],
   "source": [
    "# creating an array with the scaled regression quantities we care about:\n",
    "\n",
    "X=df_scale[:,3:12]\n",
    "\n"
   ]
  },
  {
   "cell_type": "code",
   "execution_count": 43,
   "metadata": {
    "colab": {
     "base_uri": "https://localhost:8080/"
    },
    "id": "h8-gXsdDnB1j",
    "outputId": "c247bf00-1beb-4fd7-b63d-74b3d7d1e019"
   },
   "outputs": [
    {
     "data": {
      "text/html": [
       "<style>#sk-container-id-1 {color: black;background-color: white;}#sk-container-id-1 pre{padding: 0;}#sk-container-id-1 div.sk-toggleable {background-color: white;}#sk-container-id-1 label.sk-toggleable__label {cursor: pointer;display: block;width: 100%;margin-bottom: 0;padding: 0.3em;box-sizing: border-box;text-align: center;}#sk-container-id-1 label.sk-toggleable__label-arrow:before {content: \"▸\";float: left;margin-right: 0.25em;color: #696969;}#sk-container-id-1 label.sk-toggleable__label-arrow:hover:before {color: black;}#sk-container-id-1 div.sk-estimator:hover label.sk-toggleable__label-arrow:before {color: black;}#sk-container-id-1 div.sk-toggleable__content {max-height: 0;max-width: 0;overflow: hidden;text-align: left;background-color: #f0f8ff;}#sk-container-id-1 div.sk-toggleable__content pre {margin: 0.2em;color: black;border-radius: 0.25em;background-color: #f0f8ff;}#sk-container-id-1 input.sk-toggleable__control:checked~div.sk-toggleable__content {max-height: 200px;max-width: 100%;overflow: auto;}#sk-container-id-1 input.sk-toggleable__control:checked~label.sk-toggleable__label-arrow:before {content: \"▾\";}#sk-container-id-1 div.sk-estimator input.sk-toggleable__control:checked~label.sk-toggleable__label {background-color: #d4ebff;}#sk-container-id-1 div.sk-label input.sk-toggleable__control:checked~label.sk-toggleable__label {background-color: #d4ebff;}#sk-container-id-1 input.sk-hidden--visually {border: 0;clip: rect(1px 1px 1px 1px);clip: rect(1px, 1px, 1px, 1px);height: 1px;margin: -1px;overflow: hidden;padding: 0;position: absolute;width: 1px;}#sk-container-id-1 div.sk-estimator {font-family: monospace;background-color: #f0f8ff;border: 1px dotted black;border-radius: 0.25em;box-sizing: border-box;margin-bottom: 0.5em;}#sk-container-id-1 div.sk-estimator:hover {background-color: #d4ebff;}#sk-container-id-1 div.sk-parallel-item::after {content: \"\";width: 100%;border-bottom: 1px solid gray;flex-grow: 1;}#sk-container-id-1 div.sk-label:hover label.sk-toggleable__label {background-color: #d4ebff;}#sk-container-id-1 div.sk-serial::before {content: \"\";position: absolute;border-left: 1px solid gray;box-sizing: border-box;top: 0;bottom: 0;left: 50%;z-index: 0;}#sk-container-id-1 div.sk-serial {display: flex;flex-direction: column;align-items: center;background-color: white;padding-right: 0.2em;padding-left: 0.2em;position: relative;}#sk-container-id-1 div.sk-item {position: relative;z-index: 1;}#sk-container-id-1 div.sk-parallel {display: flex;align-items: stretch;justify-content: center;background-color: white;position: relative;}#sk-container-id-1 div.sk-item::before, #sk-container-id-1 div.sk-parallel-item::before {content: \"\";position: absolute;border-left: 1px solid gray;box-sizing: border-box;top: 0;bottom: 0;left: 50%;z-index: -1;}#sk-container-id-1 div.sk-parallel-item {display: flex;flex-direction: column;z-index: 1;position: relative;background-color: white;}#sk-container-id-1 div.sk-parallel-item:first-child::after {align-self: flex-end;width: 50%;}#sk-container-id-1 div.sk-parallel-item:last-child::after {align-self: flex-start;width: 50%;}#sk-container-id-1 div.sk-parallel-item:only-child::after {width: 0;}#sk-container-id-1 div.sk-dashed-wrapped {border: 1px dashed gray;margin: 0 0.4em 0.5em 0.4em;box-sizing: border-box;padding-bottom: 0.4em;background-color: white;}#sk-container-id-1 div.sk-label label {font-family: monospace;font-weight: bold;display: inline-block;line-height: 1.2em;}#sk-container-id-1 div.sk-label-container {text-align: center;}#sk-container-id-1 div.sk-container {/* jupyter's `normalize.less` sets `[hidden] { display: none; }` but bootstrap.min.css set `[hidden] { display: none !important; }` so we also need the `!important` here to be able to override the default hidden behavior on the sphinx rendered scikit-learn.org. See: https://github.com/scikit-learn/scikit-learn/issues/21755 */display: inline-block !important;position: relative;}#sk-container-id-1 div.sk-text-repr-fallback {display: none;}</style><div id=\"sk-container-id-1\" class=\"sk-top-container\"><div class=\"sk-text-repr-fallback\"><pre>LinearRegression()</pre><b>In a Jupyter environment, please rerun this cell to show the HTML representation or trust the notebook. <br />On GitHub, the HTML representation is unable to render, please try loading this page with nbviewer.org.</b></div><div class=\"sk-container\" hidden><div class=\"sk-item\"><div class=\"sk-estimator sk-toggleable\"><input class=\"sk-toggleable__control sk-hidden--visually\" id=\"sk-estimator-id-1\" type=\"checkbox\" checked><label for=\"sk-estimator-id-1\" class=\"sk-toggleable__label sk-toggleable__label-arrow\">LinearRegression</label><div class=\"sk-toggleable__content\"><pre>LinearRegression()</pre></div></div></div></div></div>"
      ],
      "text/plain": [
       "LinearRegression()"
      ]
     },
     "execution_count": 43,
     "metadata": {},
     "output_type": "execute_result"
    }
   ],
   "source": [
    "# Linear Regression with standardized data\n",
    "\n",
    "# we fit  the column of 'Serious Delinquencies in 2 years' of df2 with all the standardized columns starting from age in df_scale. We do train_test split and then calculate the MSE\n",
    "\n",
    "\n",
    "\n",
    "reg = LinearRegression(copy_X=True, fit_intercept=True)\n",
    "\n",
    "y=df2['SeriousDlqin2yrs']\n",
    "\n",
    "\n",
    "X_train, X_test, y_train, y_test = train_test_split(X,y ,\n",
    "                                   random_state=14,\n",
    "                                   test_size=0.2,\n",
    "                                   shuffle=True)\n",
    "reg.fit(X_train,y_train)\n"
   ]
  },
  {
   "cell_type": "code",
   "execution_count": 44,
   "metadata": {
    "colab": {
     "base_uri": "https://localhost:8080/"
    },
    "id": "cqZ02T3iu4pY",
    "outputId": "c579ceb3-96fe-4a78-c60d-91bd3fde245f"
   },
   "outputs": [
    {
     "data": {
      "text/plain": [
       "array([-0.01864116,  0.17417619,  0.02102775, -0.00326125, -0.00670821,\n",
       "        0.17144475, -0.00943945, -0.31768343,  0.00754658])"
      ]
     },
     "execution_count": 44,
     "metadata": {},
     "output_type": "execute_result"
    }
   ],
   "source": [
    "reg.coef_"
   ]
  },
  {
   "cell_type": "code",
   "execution_count": 45,
   "metadata": {
    "colab": {
     "base_uri": "https://localhost:8080/"
    },
    "id": "t_Zqvl2Cvlzh",
    "outputId": "1b0d5f0a-b93a-4ed8-d0d1-e8e927bc2e44"
   },
   "outputs": [
    {
     "data": {
      "image/png": "[encoded data removed]",
      "text/plain": [
       "<Figure size 576x288 with 1 Axes>"
      ]
     },
     "metadata": {
      "needs_background": "light"
     },
     "output_type": "display_data"
    }
   ],
   "source": [
    "# for train set\n",
    "plt.figure(figsize=(8,4))\n",
    "\n",
    "plt.scatter(y_train, y_train - np.around(reg.predict(X_train)))\n",
    "\n",
    "plt.xlabel(\"$y$\", fontsize=12)\n",
    "plt.ylabel(\"$y - \\hat{y} $\", fontsize=12)\n",
    "plt.xticks(fontsize=12)\n",
    "plt.yticks(fontsize=12)\n",
    "\n",
    "plt.show()"
   ]
  },
  {
   "cell_type": "code",
   "execution_count": 46,
   "metadata": {
    "colab": {
     "base_uri": "https://localhost:8080/"
    },
    "id": "UF8y7pXEICji",
    "outputId": "16664826-ea18-49d2-80e0-31092cd83991"
   },
   "outputs": [
    {
     "data": {
      "image/png": "[encoded data removed]",
      "text/plain": [
       "<Figure size 576x288 with 1 Axes>"
      ]
     },
     "metadata": {
      "needs_background": "light"
     },
     "output_type": "display_data"
    }
   ],
   "source": [
    "# for test set\n",
    "\n",
    "plt.figure(figsize=(8,4))\n",
    "\n",
    "plt.scatter(y_test, y_test - np.around(reg.predict(X_test)))\n",
    "\n",
    "plt.xlabel(\"$y$\", fontsize=12)\n",
    "plt.ylabel(\"$y - \\hat{y} $\", fontsize=12)\n",
    "plt.xticks(fontsize=12)\n",
    "plt.yticks(fontsize=12)\n",
    "\n",
    "plt.show()"
   ]
  },
  {
   "cell_type": "code",
   "execution_count": 47,
   "metadata": {
    "colab": {
     "base_uri": "https://localhost:8080/"
    },
    "id": "jHEY0_S6xtuO",
    "outputId": "537a7cae-dc29-4e60-cf90-11c0794c3e7d"
   },
   "outputs": [
    {
     "data": {
      "text/plain": [
       "115627"
      ]
     },
     "execution_count": 47,
     "metadata": {},
     "output_type": "execute_result"
    }
   ],
   "source": [
    "np.around(reg.predict(X)).size"
   ]
  },
  {
   "cell_type": "code",
   "execution_count": 48,
   "metadata": {
    "colab": {
     "base_uri": "https://localhost:8080/"
    },
    "id": "Ofkj0I5exPZz",
    "outputId": "f819fd86-b604-4676-cc1e-c0daf5886001"
   },
   "outputs": [
    {
     "data": {
      "text/plain": [
       "0.2588901865392489"
      ]
     },
     "execution_count": 48,
     "metadata": {},
     "output_type": "execute_result"
    }
   ],
   "source": [
    "# MSE calculation for test set\n",
    "\n",
    "mean_squared_error(y_test, np.around(reg.predict(X_test)), squared=False)  # squarred false means it will do a squareroot of MSE in the end"
   ]
  },
  {
   "cell_type": "code",
   "execution_count": 49,
   "metadata": {
    "colab": {
     "base_uri": "https://localhost:8080/"
    },
    "id": "7HH3fceiy4ry",
    "outputId": "80344f00-684c-443a-f929-40984f9fcfcf"
   },
   "outputs": [
    {
     "data": {
      "text/plain": [
       "array([-0.01864165,  0.17412353,  0.02102819, -0.00326128, -0.00670845,\n",
       "        0.17132218, -0.0094398 , -0.31750871,  0.00754707])"
      ]
     },
     "execution_count": 49,
     "metadata": {},
     "output_type": "execute_result"
    }
   ],
   "source": [
    "# The same with Ridge ($L^2$) regularization\n",
    "from sklearn import linear_model\n",
    "reg2 = linear_model.Ridge(alpha=0.5, fit_intercept=True, copy_X=True)\n",
    "reg2.fit(X_train, y_train)\n",
    "reg2.coef_"
   ]
  },
  {
   "cell_type": "code",
   "execution_count": 50,
   "metadata": {
    "colab": {
     "base_uri": "https://localhost:8080/"
    },
    "id": "5h6wi4w8zn2g",
    "outputId": "556035e3-1f5d-47b7-eb5f-c7175e2cd4db"
   },
   "outputs": [
    {
     "data": {
      "text/plain": [
       "0.2588901865392489"
      ]
     },
     "execution_count": 50,
     "metadata": {},
     "output_type": "execute_result"
    }
   ],
   "source": [
    "# MSE with ridge regularization with alpha = 0.5\n",
    "mean_squared_error(y_test, np.around(reg2.predict(X_test)), squared=False)"
   ]
  },
  {
   "cell_type": "markdown",
   "metadata": {
    "id": "Lxj_6YpyOGl_"
   },
   "source": [
    "## Aravind's Workspace"
   ]
  },
  {
   "cell_type": "code",
   "execution_count": 51,
   "metadata": {
    "colab": {
     "base_uri": "https://localhost:8080/"
    },
    "id": "LSrj2MPCOKOk",
    "outputId": "9077b330-5b67-45f8-8564-7a054ea60d93"
   },
   "outputs": [
    {
     "data": {
      "text/plain": [
       "array([[-1.73290451,  3.68898242,  1.25152322, ...,  4.46838652,\n",
       "        -0.05447049,  1.00284853],\n",
       "       [-1.73288141, -0.27107746,  1.79832226, ..., -0.93844627,\n",
       "        -0.05447049,  0.12924237],\n",
       "       [-1.7328583 , -0.27107746,  0.94253117, ..., -0.93844627,\n",
       "        -0.05447049, -0.7443638 ],\n",
       "       ...,\n",
       "       [ 1.73235397, -0.27107746, -0.08347336, ..., -0.03730748,\n",
       "        -0.05447049,  1.00284853],\n",
       "       [ 1.73240017, -0.27107746, -0.94148076, ..., -0.93844627,\n",
       "        -0.05447049, -0.7443638 ],\n",
       "       [ 1.73242327, -0.27107746,  1.49241708, ...,  0.86383132,\n",
       "        -0.05447049, -0.7443638 ]])"
      ]
     },
     "execution_count": 51,
     "metadata": {},
     "output_type": "execute_result"
    }
   ],
   "source": [
    "# first make a deep copy of the data\n",
    "df2=df.copy(deep=True)\n",
    "# standardization of columns (subtract mean and divide by variance)\n",
    "\n",
    "\n",
    "from sklearn.preprocessing import StandardScaler\n",
    "## Make a scaler object : i.e. the StandardScaler object below which will know what to do make the standardization in the way we want\n",
    "scaler=StandardScaler()\n",
    "\n",
    "## fit the scaler : calling 'fit' means, the case of standardizing here, knowing the columns and the mean, standard deviation of the each of the columns\n",
    "scaler.fit(df2)\n",
    "\n",
    "\n",
    "df_scale\n",
    "\n",
    "df_scale.shape\n",
    "\n",
    "df_scale[:,1]\n",
    "\n",
    "df_scale\n"
   ]
  },
  {
   "cell_type": "code",
   "execution_count": 52,
   "metadata": {
    "colab": {
     "base_uri": "https://localhost:8080/"
    },
    "id": "eS7yOPG96VTZ",
    "outputId": "26c8fcec-3b2c-4cac-9480-caf7f564962c"
   },
   "outputs": [
    {
     "name": "stdout",
     "output_type": "stream",
     "text": [
      "(3, 4, 5)\n",
      "(3, 4, 6)\n",
      "(3, 4, 7)\n",
      "(3, 4, 8)\n",
      "(3, 4, 9)\n",
      "(3, 4, 10)\n",
      "(3, 4, 11)\n",
      "(3, 5, 6)\n",
      "(3, 5, 7)\n",
      "(3, 5, 8)\n",
      "(3, 5, 9)\n",
      "(3, 5, 10)\n",
      "(3, 5, 11)\n",
      "(3, 6, 7)\n",
      "(3, 6, 8)\n",
      "(3, 6, 9)\n",
      "(3, 6, 10)\n",
      "(3, 6, 11)\n",
      "(3, 7, 8)\n",
      "(3, 7, 9)\n",
      "(3, 7, 10)\n",
      "(3, 7, 11)\n",
      "(3, 8, 9)\n",
      "(3, 8, 10)\n",
      "(3, 8, 11)\n",
      "(3, 9, 10)\n",
      "(3, 9, 11)\n",
      "(3, 10, 11)\n",
      "(4, 5, 6)\n",
      "(4, 5, 7)\n",
      "(4, 5, 8)\n",
      "(4, 5, 9)\n",
      "(4, 5, 10)\n",
      "(4, 5, 11)\n",
      "(4, 6, 7)\n",
      "(4, 6, 8)\n",
      "(4, 6, 9)\n",
      "(4, 6, 10)\n",
      "(4, 6, 11)\n",
      "(4, 7, 8)\n",
      "(4, 7, 9)\n",
      "(4, 7, 10)\n",
      "(4, 7, 11)\n",
      "(4, 8, 9)\n",
      "(4, 8, 10)\n",
      "(4, 8, 11)\n",
      "(4, 9, 10)\n",
      "(4, 9, 11)\n",
      "(4, 10, 11)\n",
      "(5, 6, 7)\n",
      "(5, 6, 8)\n",
      "(5, 6, 9)\n",
      "(5, 6, 10)\n",
      "(5, 6, 11)\n",
      "(5, 7, 8)\n",
      "(5, 7, 9)\n",
      "(5, 7, 10)\n",
      "(5, 7, 11)\n",
      "(5, 8, 9)\n",
      "(5, 8, 10)\n",
      "(5, 8, 11)\n",
      "(5, 9, 10)\n",
      "(5, 9, 11)\n",
      "(5, 10, 11)\n",
      "(6, 7, 8)\n",
      "(6, 7, 9)\n",
      "(6, 7, 10)\n",
      "(6, 7, 11)\n",
      "(6, 8, 9)\n",
      "(6, 8, 10)\n",
      "(6, 8, 11)\n",
      "(6, 9, 10)\n",
      "(6, 9, 11)\n",
      "(6, 10, 11)\n",
      "(7, 8, 9)\n",
      "(7, 8, 10)\n",
      "(7, 8, 11)\n",
      "(7, 9, 10)\n",
      "(7, 9, 11)\n",
      "(7, 10, 11)\n",
      "(8, 9, 10)\n",
      "(8, 9, 11)\n",
      "(8, 10, 11)\n",
      "(9, 10, 11)\n"
     ]
    }
   ],
   "source": [
    "from itertools import combinations\n",
    "\n",
    "comb = combinations(np.arange(3,12), 3)\n",
    "\n",
    "for i in comb:\n",
    "  print(i)"
   ]
  },
  {
   "cell_type": "markdown",
   "metadata": {
    "id": "mqrMLQj6qMqT"
   },
   "source": []
  },
  {
   "cell_type": "code",
   "execution_count": 53,
   "metadata": {
    "colab": {
     "base_uri": "https://localhost:8080/"
    },
    "id": "GpUvJ3Y5Oqzk",
    "outputId": "daf15732-ee11-4998-87bc-a3ce80a3218a"
   },
   "outputs": [
    {
     "name": "stdout",
     "output_type": "stream",
     "text": [
      "0.03699879999034807 [ 3  4 10]\n"
     ]
    }
   ],
   "source": [
    "# creating an array with the scaled regression quantities we care about (84 iterations - 9C3)):\n",
    "\n",
    "from itertools import combinations\n",
    "\n",
    "comb = combinations(np.arange(3,12), 3)\n",
    "y=df2['SeriousDlqin2yrs']\n",
    "j=[]\n",
    "k=[]\n",
    "l=0\n",
    "#test = df_scale[2]\n",
    "\n",
    "for i in comb:\n",
    "\n",
    "  X=df_scale[:,[i[0],i[1],i[2]]]\n",
    "  reg = LinearRegression(copy_X=True, fit_intercept=True)\n",
    "  X_train, X_test, y_train, y_test = train_test_split(X,y,\n",
    "                                   random_state=14,\n",
    "                                   test_size=0.2,\n",
    "                                   shuffle=True)\n",
    "  reg.fit(X_train,y_train)\n",
    "  #print(reg.coef_)\n",
    "  j.append(reg.predict(X_test)[123])#[10000])\n",
    "  l+=1\n",
    "  #t = np.array([test[i[0]], test[i[1]], test[i[2]]]).reshape(1,-1)\n",
    "  #j.append(reg.predict(t))#[i[0]], test[i[1]], test[i[2]]))\n",
    "  k.append(i)\n",
    "\n",
    "  #print(reg.predict(X_test)[0], i)\n",
    "\n",
    "\n",
    "  # Get the best model\n",
    "  #best_model = reg.best_estimator_\n",
    "\n",
    "  #df_s_test = scaler.transform(X_test)\n",
    "  # Predict probabilities on test data using the best model\n",
    "  #y_pred_proba = best_model.predict_proba(df_s_test)[:, 1]\n",
    "\n",
    "  # Calculate AUC\n",
    "  #auc = roc_auc_score(y_test, y_pred_proba)\n",
    "\n",
    "  #print(f'The AUC of the test set is {auc}')\n",
    "  #mean_squared_error(y_test, np.around(reg.predict(X_test)), squared=False)\n",
    "\n",
    "#print(np.max(np.array(j)), np.array(k)[np.argmax(np.array(j))])\n",
    "#print(j)\n",
    "#print(j)\n",
    "print(np.min(np.array(j)), np.array(k)[np.argmin(np.array(j))])"
   ]
  },
  {
   "cell_type": "code",
   "execution_count": 54,
   "metadata": {
    "colab": {
     "base_uri": "https://localhost:8080/"
    },
    "id": "eAMurdcjF1GM",
    "outputId": "b57ac80e-38c7-4280-eb95-6178d9f6c53e"
   },
   "outputs": [
    {
     "name": "stdout",
     "output_type": "stream",
     "text": [
      "115627\n"
     ]
    }
   ],
   "source": [
    "print(len(y))"
   ]
  },
  {
   "cell_type": "code",
   "execution_count": 55,
   "metadata": {
    "id": "18UJND_r_fd-"
   },
   "outputs": [],
   "source": [
    "\n",
    "#t = np.array([test[0], test[2], test[5]]).reshape(1, -1)\n",
    "\n",
    "#reg.predict(t)\n"
   ]
  },
  {
   "cell_type": "code",
   "execution_count": 56,
   "metadata": {
    "id": "eDlxpCsRDYBu"
   },
   "outputs": [],
   "source": [
    "\n",
    "# X=df_scale[:,[3,8,10]]\n",
    "# reg = LinearRegression(copy_X=True, fit_intercept=True)\n",
    "# X_train, X_test, y_train, y_test = train_test_split(X,y,\n",
    "#                                    random_state=14,\n",
    "#                                    test_size=0.2,\n",
    "#                                    shuffle=True)\n",
    "# reg.fit(X_train,y_train)\n",
    "\n",
    "# mean_squared_error(y_test, np.around(reg.predict(X_test)), squared=False)\n"
   ]
  },
  {
   "cell_type": "code",
   "execution_count": 57,
   "metadata": {
    "id": "uh7JZNKU-9m6"
   },
   "outputs": [],
   "source": [
    "#test[0]"
   ]
  },
  {
   "cell_type": "code",
   "execution_count": 58,
   "metadata": {
    "id": "r6orPo-j9pc5"
   },
   "outputs": [],
   "source": [
    "#df_scale[0]"
   ]
  },
  {
   "cell_type": "code",
   "execution_count": 59,
   "metadata": {
    "id": "6xQ5njUS1Xu0"
   },
   "outputs": [],
   "source": [
    "#  X=df_scale[:,3:12]\n",
    "\n",
    "#   X_train, X_test, y_train, y_test = train_test_split(X,y,\n",
    "#                                    random_state=15,\n",
    "#                                    test_size=0.2,\n",
    "#                                    shuffle=True)\n",
    "\n",
    "#   print(X_test)\n"
   ]
  },
  {
   "cell_type": "markdown",
   "metadata": {
    "id": "MP1LfFTRSOO6"
   },
   "source": [
    "#Tushar's workspace\n",
    "\n"
   ]
  },
  {
   "cell_type": "code",
   "execution_count": 60,
   "metadata": {
    "colab": {
     "base_uri": "https://localhost:8080/",
     "height": 505
    },
    "id": "_yV9GaWoSPtG",
    "outputId": "a104b641-7288-461d-d5c7-290f3071c06c"
   },
   "outputs": [
    {
     "name": "stderr",
     "output_type": "stream",
     "text": [
      "C:\\Users\\tanuj\\anaconda3\\lib\\site-packages\\sklearn\\linear_model\\_sag.py:350: ConvergenceWarning: The max_iter was reached which means the coef_ did not converge\n",
      "  warnings.warn(\n"
     ]
    },
    {
     "data": {
      "image/png": "[encoded data removed]",
      "text/plain": [
       "<Figure size 432x288 with 1 Axes>"
      ]
     },
     "metadata": {
      "needs_background": "light"
     },
     "output_type": "display_data"
    }
   ],
   "source": [
    "#Importing libraries\n",
    "import sklearn.metrics as metrics\n",
    "from sklearn.linear_model import LogisticRegression\n",
    "from sklearn.model_selection import train_test_split, cross_val_predict\n",
    "from sklearn.metrics import roc_curve, roc_auc_score\n",
    "from sklearn.metrics import RocCurveDisplay\n",
    "\n",
    "#Define the feature space and the target space\n",
    "y = df['SeriousDlqin2yrs']\n",
    "X = df.drop('SeriousDlqin2yrs', axis = 1)\n",
    "#Split data in X_train, y_train, X_test, and y_test\n",
    "X_train, X_test, y_train, y_test = train_test_split(X,y ,\n",
    "                                   random_state=14,\n",
    "                                   test_size=0.2,\n",
    "                                   shuffle=True)\n",
    "#Define the model with random hyperparameters\n",
    "logit = LogisticRegression(random_state=123, solver='saga', penalty='l2', class_weight='balanced', C=1.0, max_iter=1000)\n",
    "\n",
    "#Fit data into the model\n",
    "logit.fit(X_train, y_train)\n",
    "\n",
    "#Predict scores and round it off to nearest integer\n",
    "logit_scores_proba = logit.predict_proba(X_test)\n",
    "preds = logit_scores_proba[:,1].round()  # predictions\n",
    "\n",
    "#False positives, true positives\n",
    "fpr, tpr, threshold = metrics.roc_curve(y_test, preds)\n",
    "\n",
    "#Show the ROC curve\n",
    "RocCurveDisplay.from_estimator(logit,X_test,y_test)\n",
    "plt.show()"
   ]
  },
  {
   "cell_type": "code",
   "execution_count": 61,
   "metadata": {
    "colab": {
     "base_uri": "https://localhost:8080/"
    },
    "id": "y6w9U9k4V6OM",
    "outputId": "6098d1a1-308c-4ec5-db93-3e605dabfd71"
   },
   "outputs": [
    {
     "name": "stdout",
     "output_type": "stream",
     "text": [
      "0.5438986724336795\n",
      "AUC Score :  0.5439\n"
     ]
    }
   ],
   "source": [
    "#printing area under curve using false positives and true positives\n",
    "roc_auc = metrics.auc(fpr, tpr)\n",
    "print(roc_auc)\n",
    "print('AUC Score : ', round(roc_auc_score(y_test,preds),5))"
   ]
  },
  {
   "cell_type": "code",
   "execution_count": 62,
   "metadata": {
    "colab": {
     "base_uri": "https://localhost:8080/"
    },
    "id": "MNvQRS-rUMMV",
    "outputId": "c4edeb2b-4a15-416b-f1e4-b429344c7ff8"
   },
   "outputs": [
    {
     "data": {
      "text/plain": [
       "0.5982548346524135"
      ]
     },
     "execution_count": 62,
     "metadata": {},
     "output_type": "execute_result"
    }
   ],
   "source": [
    "#Calculate the mean squared error for binary valued outputs\n",
    "mean_squared_error(y_test, preds, squared=False)  # squarred false means it will do a squareroot of MSE in the end"
   ]
  },
  {
   "cell_type": "markdown",
   "metadata": {
    "id": "nP41Gw3bUVtx"
   },
   "source": [
    "We will compare different AUC scores for the cases where we use different normalizations.\n",
    "\n",
    "1. No normalization\n",
    "2. Z normalization ((x-mean)/std_dev)\n",
    "3. logarithmic normalization for features with large values\n",
    "4. Standard normalization ((x-min)/(max-min))"
   ]
  },
  {
   "cell_type": "markdown",
   "metadata": {
    "id": "V7BVKCIfsZtJ"
   },
   "source": [
    "## Hyperparameter tuning using Grid Search.\n",
    "\n",
    "This method uses standard normalization on each column"
   ]
  },
  {
   "cell_type": "code",
   "execution_count": 63,
   "metadata": {
    "id": "MXELwneWhjAo"
   },
   "outputs": [],
   "source": [
    "# from sklearn.model_selection import  GridSearchCV\n",
    "#\n",
    "# # Initialize logistic regression model\n",
    "# model = LogisticRegression(solver='liblinear')\n",
    "\n",
    "# # Define hyperparameters to tune\n",
    "# hyperparameters = {'C': [0.001, 0.01, 0.1, 1, 10, 100], 'penalty': ['l1', 'l2'],'max_iter': list(range(100,800,100))}\n",
    "\n",
    "# # Define scorer based on AUC\n",
    "# scorer = make_scorer(roc_auc_score, needs_proba=True)\n",
    "\n",
    "# # Initialize GridSearchCV\n",
    "# gridsearch = GridSearchCV(model, hyperparameters, scoring=scorer, cv=5)\n",
    "\n",
    "# scaler.fit(X_train)\n",
    "# df_s = scaler.transform(X_train)\n",
    "# # Fit GridSearchCV on training data\n",
    "# gridsearch.fit(df_s, y_train)\n",
    "\n",
    "# # Get the best model\n",
    "# best_model = gridsearch.best_estimator_\n",
    "\n",
    "# df_s_test = scaler.transform(X_test)\n",
    "# # Predict probabilities on test data using the best model\n",
    "# y_pred_proba = best_model.predict_proba(df_s_test)[:, 1]\n",
    "\n",
    "# # Calculate AUC\n",
    "# auc = roc_auc_score(y_test, y_pred_proba)\n",
    "\n",
    "# print(f'The AUC of the test set is {auc}')"
   ]
  },
  {
   "cell_type": "code",
   "execution_count": null,
   "metadata": {
    "id": "Dag-nuX4h-R6"
   },
   "outputs": [],
   "source": []
  },
  {
   "cell_type": "markdown",
   "metadata": {
    "id": "s3Efb_yysjeA"
   },
   "source": [
    "## Custom change to columns\n",
    "\n",
    "Gridsearch for hyperaparameter tuning"
   ]
  },
  {
   "cell_type": "code",
   "execution_count": 64,
   "metadata": {
    "id": "MqvjHykYjOPE"
   },
   "outputs": [],
   "source": [
    "# df_custom = df.copy(deep = True)\n",
    "# df_custom['age'] = df_custom['age']/10\n",
    "# df_custom['MonthlyIncome' ] = df_custom['MonthlyIncome']+1\n",
    "# df_custom['MonthlyIncome'] = df_custom['MonthlyIncome'].apply(lambda x: np.log(x))\n",
    "# df_custom.head()"
   ]
  },
  {
   "cell_type": "code",
   "execution_count": null,
   "metadata": {
    "id": "7U_SRqOXmeEN"
   },
   "outputs": [],
   "source": []
  },
  {
   "cell_type": "code",
   "execution_count": 65,
   "metadata": {
    "id": "tmWfvpZjjj8w"
   },
   "outputs": [],
   "source": [
    "# y_cust = df_custom['SeriousDlqin2yrs']\n",
    "# X_cust = df_custom.drop('SeriousDlqin2yrs', axis = 1)\n",
    "# #Split data in X_train, y_train, X_test, and y_test\n",
    "# X_train_c, X_test_c, y_train_c, y_test_c = train_test_split(X_cust,y_cust ,\n",
    "#                                    random_state=14,\n",
    "#                                    test_size=0.2,\n",
    "#                                    shuffle=True)\n",
    "# # Initialize logistic regression model\n",
    "# model = LogisticRegression(solver='liblinear')\n",
    "\n",
    "# # Define hyperparameters to tune\n",
    "# hyperparameters = {'C': [0.001, 0.01, 0.1, 1, 10, 100], 'penalty': ['l1', 'l2'],'max_iter': list(range(100,800,100))}\n",
    "\n",
    "# # Define scorer based on AUC\n",
    "# scorer = make_scorer(roc_auc_score, needs_proba=True)\n",
    "\n",
    "# # Initialize GridSearchCV\n",
    "# gridsearch = GridSearchCV(model, hyperparameters, scoring=scorer, cv=5)\n",
    "\n",
    "# # Fit GridSearchCV on training data\n",
    "# gridsearch.fit(X_train_c, y_train_c)\n",
    "\n",
    "# # Get the best model\n",
    "# best_model = gridsearch.best_estimator_\n",
    "\n",
    "\n",
    "# # Predict probabilities on test data using the best model\n",
    "# y_pred_proba_c = best_model.predict_proba(X_test_c)[:, 1]\n",
    "\n",
    "# # Calculate AUC\n",
    "# auc = roc_auc_score(y_test_c, y_pred_proba_c)\n",
    "\n",
    "# print(f'The AUC of the test set is {auc}')"
   ]
  },
  {
   "cell_type": "code",
   "execution_count": null,
   "metadata": {
    "id": "nDVhWqwMmMoM"
   },
   "outputs": [],
   "source": []
  },
  {
   "cell_type": "markdown",
   "metadata": {
    "id": "-4QqjlYzssk9"
   },
   "source": [
    "##Z (Normalization) of data set\n",
    "\n",
    "Gridsearch for hyperparameter tuning"
   ]
  },
  {
   "cell_type": "code",
   "execution_count": 66,
   "metadata": {
    "id": "-p70A6XjntLc"
   },
   "outputs": [],
   "source": [
    "# df_z = (X_train - X_train.mean())/X_train.std()\n",
    "# # Initialize logistic regression model\n",
    "# model = LogisticRegression(solver='liblinear')\n",
    "\n",
    "# # Define hyperparameters to tune\n",
    "# hyperparameters = {'C': [0.001, 0.01, 0.1, 1, 10, 100], 'penalty': ['l1', 'l2'],'max_iter': list(range(100,800,100))}\n",
    "\n",
    "# # Define scorer based on AUC\n",
    "# scorer = make_scorer(roc_auc_score, needs_proba=True)\n",
    "\n",
    "# # Initialize GridSearchCV\n",
    "# gridsearch = GridSearchCV(model, hyperparameters, scoring=scorer, cv=5)\n",
    "\n",
    "# # Fit GridSearchCV on training data\n",
    "# gridsearch.fit(df_z, y_train)\n",
    "\n",
    "# # Get the best model\n",
    "# best_model = gridsearch.best_estimator_\n",
    "\n",
    "# df_z_test = (X_test - X_test.mean())/X_test.std()\n",
    "# # Predict probabilities on test data using the best model\n",
    "# y_pred_proba = best_model.predict_proba(df_z_test)[:, 1]\n",
    "\n",
    "# # Calculate AUC\n",
    "# auc = roc_auc_score(y_test, y_pred_proba)\n",
    "\n",
    "# print(f'The AUC of the test set is {auc}')"
   ]
  },
  {
   "cell_type": "code",
   "execution_count": null,
   "metadata": {
    "id": "kYJTzWSloA31"
   },
   "outputs": [],
   "source": []
  },
  {
   "cell_type": "markdown",
   "metadata": {
    "id": "ekhrK5A4s1KK"
   },
   "source": [
    "**The AUC score is more or less the same for all the above cases**"
   ]
  },
  {
   "cell_type": "markdown",
   "metadata": {
    "id": "jN9doe6FtA7z"
   },
   "source": [
    "#Try RandomSearch instead\n",
    "\n",
    "There should not be any improvement unless the previous cases gave us a local minima"
   ]
  },
  {
   "cell_type": "markdown",
   "metadata": {
    "id": "rF6MAYFvtJLl"
   },
   "source": [
    "#No normalization"
   ]
  },
  {
   "cell_type": "code",
   "execution_count": 67,
   "metadata": {
    "id": "jb9RuxXUpK0S"
   },
   "outputs": [],
   "source": [
    "# from sklearn.model_selection import train_test_split, RandomizedSearchCV\n",
    "# model = LogisticRegression(solver = 'liblinear')\n",
    "\n",
    "# # Define hyperparameters to tune\n",
    "# hyperparameters = {'C': np.logspace(-4, 4, 20),\n",
    "#                    'penalty': ['l1', 'l2'],\n",
    "#                    'max_iter': list(range(100,800,100))}\n",
    "\n",
    "# # Define scorer based on AUC\n",
    "# scorer = make_scorer(roc_auc_score, needs_proba=True)\n",
    "\n",
    "# # Initialize RandomizedSearchCV\n",
    "# randomsearch = RandomizedSearchCV(model, hyperparameters, scoring=scorer, cv=5)\n",
    "\n",
    "# # Fit RandomizedSearchCV on training data\n",
    "# randomsearch.fit(X_train, y_train)\n",
    "\n",
    "# # Get the best model\n",
    "# best_model = randomsearch.best_estimator_\n",
    "\n",
    "# # Predict probabilities on test data using the best model\n",
    "# y_pred_proba = best_model.predict_proba(X_test)[:, 1]\n",
    "\n",
    "# # Calculate AUC\n",
    "# auc = roc_auc_score(y_test, y_pred_proba)\n",
    "\n",
    "# print(f'The AUC of the test set is {auc}')"
   ]
  },
  {
   "cell_type": "code",
   "execution_count": null,
   "metadata": {
    "id": "i08nwoJUqDKE"
   },
   "outputs": [],
   "source": []
  },
  {
   "cell_type": "markdown",
   "metadata": {
    "id": "6xMT0itPtO5b"
   },
   "source": [
    "#Standard min-max scaling"
   ]
  },
  {
   "cell_type": "code",
   "execution_count": 68,
   "metadata": {
    "id": "834YK13cqDGf"
   },
   "outputs": [],
   "source": [
    "\n",
    "# from sklearn.metrics import make_scorer\n",
    "# # Initialize logistic regression model\n",
    "# model = LogisticRegression(solver='liblinear')\n",
    "\n",
    "# randomsearch = RandomizedSearchCV(model, hyperparameters, scoring=scorer, cv=5)\n",
    "\n",
    "# scaler.fit(X_train)\n",
    "# df_s = scaler.transform(X_train)\n",
    "# # Fit RandomizedSearchCV on training data\n",
    "# randomsearch.fit(df_s, y_train)\n",
    "\n",
    "# # Get the best model\n",
    "# best_model = randomsearch.best_estimator_\n",
    "\n",
    "# df_s_test = scaler.transform(X_test)\n",
    "# # Predict probabilities on test data using the best model\n",
    "# y_pred_proba = best_model.predict_proba(df_s_test)[:, 1]\n",
    "\n",
    "# # Calculate AUC\n",
    "# auc = roc_auc_score(y_test, y_pred_proba)\n",
    "\n",
    "# print(f'The AUC of the test set is {auc}')"
   ]
  },
  {
   "cell_type": "code",
   "execution_count": null,
   "metadata": {
    "id": "zoBufc1UqIrs"
   },
   "outputs": [],
   "source": []
  },
  {
   "cell_type": "markdown",
   "metadata": {
    "id": "lkvuD215tSjk"
   },
   "source": [
    "#Custom scaling"
   ]
  },
  {
   "cell_type": "code",
   "execution_count": 69,
   "metadata": {
    "id": "9Wa9nOwZqNNH"
   },
   "outputs": [],
   "source": [
    "# y_cust = df_custom['SeriousDlqin2yrs']\n",
    "# X_cust = df_custom.drop('SeriousDlqin2yrs', axis = 1)\n",
    "# #Split data in X_train, y_train, X_test, and y_test\n",
    "# X_train_c, X_test_c, y_train_c, y_test_c = train_test_split(X_cust,y_cust ,\n",
    "#                                    random_state=14,\n",
    "#                                    test_size=0.2,\n",
    "#                                    shuffle=True)\n",
    "# # Initialize logistic regression model\n",
    "# model = LogisticRegression(solver='liblinear')\n",
    "\n",
    "\n",
    "# randomsearch = RandomizedSearchCV(model, hyperparameters, scoring=scorer, cv=5)\n",
    "\n",
    "# # Fit RandmizedSearchCV on training data\n",
    "# randomsearch.fit(X_train_c, y_train_c)\n",
    "\n",
    "# # Get the best model\n",
    "# best_model = randomsearch.best_estimator_\n",
    "\n",
    "\n",
    "# # Predict probabilities on test data using the best model\n",
    "# y_pred_proba_c = best_model.predict_proba(X_test_c)[:, 1]\n",
    "\n",
    "# # Calculate AUC\n",
    "# auc = roc_auc_score(y_test_c, y_pred_proba_c)\n",
    "\n",
    "# print(f'The AUC of the test set is {auc}')"
   ]
  },
  {
   "cell_type": "code",
   "execution_count": null,
   "metadata": {
    "id": "hXwNuCWqqoJf"
   },
   "outputs": [],
   "source": []
  },
  {
   "cell_type": "markdown",
   "metadata": {
    "id": "vg1M685KtWZm"
   },
   "source": [
    "# Z Normalization"
   ]
  },
  {
   "cell_type": "code",
   "execution_count": 70,
   "metadata": {
    "id": "KQYxzYP1qrWO"
   },
   "outputs": [],
   "source": [
    "# df_z = (X_train - X_train.mean())/X_train.std()\n",
    "# # Initialize logistic regression model\n",
    "# model = LogisticRegression(solver='liblinear')\n",
    "\n",
    "\n",
    "# # Initialize RandomizedSearch\n",
    "# randomsearch = RandomizedSearchCV(model, hyperparameters, scoring=scorer, cv=5)\n",
    "\n",
    "# # Fit RandomizedSearchCV on training data\n",
    "# randomsearch.fit(df_z, y_train)\n",
    "\n",
    "# # Get the best model\n",
    "# best_model = randomsearch.best_estimator_\n",
    "\n",
    "# df_z_test = (X_test - X_test.mean())/X_test.std()\n",
    "# # Predict probabilities on test data using the best model\n",
    "# y_pred_proba = best_model.predict_proba(df_z_test)[:, 1]\n",
    "\n",
    "# # Calculate AUC\n",
    "# auc = roc_auc_score(y_test, y_pred_proba)\n",
    "\n",
    "# print(f'The AUC of the test set is {auc}')"
   ]
  },
  {
   "cell_type": "code",
   "execution_count": null,
   "metadata": {
    "id": "111gC1SkrYWZ"
   },
   "outputs": [],
   "source": []
  },
  {
   "cell_type": "markdown",
   "metadata": {
    "id": "x2bW6jCHtZaq"
   },
   "source": [
    "**As expected, there is no improvement**\n"
   ]
  },
  {
   "cell_type": "markdown",
   "metadata": {
    "id": "JcxhWNdouTYr"
   },
   "source": [
    "## Using GPU for hyperparameter tuning"
   ]
  },
  {
   "cell_type": "code",
   "execution_count": 71,
   "metadata": {
    "id": "clOkywiruSlR"
   },
   "outputs": [],
   "source": [
    "# import torch\n",
    "# import time\n",
    "# if torch.cuda.is_available():\n",
    "#     device = torch.device(\"cuda\")\n",
    "# else:\n",
    "#     device = torch.device(\"cpu\")\n",
    "\n",
    "# model = LogisticRegression(solver = 'liblinear')\n",
    "\n",
    "# # Define hyperparameters to tune\n",
    "# hyperparameters = {'C': np.logspace(-4, 4, 20),\n",
    "#                    'penalty': ['l1', 'l2'],\n",
    "#                    'max_iter': list(range(100,800,100))}\n",
    "\n",
    "# # Define scorer based on AUC\n",
    "# scorer = make_scorer(roc_auc_score, needs_proba=True)\n",
    "\n",
    "# t0 = time.time()\n",
    "# # Initialize RandomizedSearchCV\n",
    "# randomsearch = RandomizedSearchCV(model, hyperparameters, scoring=scorer, cv=5)\n",
    "\n",
    "\n",
    "# randomsearch.fit(X_train.to(device), y_train.to(device))\n",
    "\n",
    "# # Get the best model\n",
    "# best_model = randomsearch.best_estimator_\n",
    "\n",
    "# # Predict probabilities on test data using the best model and move data to GPU with .to(device)\n",
    "# y_pred_proba = best_model.predict_proba(X_test.to(device))[:, 1]\n",
    "\n",
    "# # Calculate AUC\n",
    "# auc = roc_auc_score(y_test.to(device), y_pred_proba)\n",
    "\n",
    "# t1 = time.time()\n",
    "# print('Time taken', t1-t0)\n",
    "# print(f'The AUC of the test set is {auc}')"
   ]
  },
  {
   "cell_type": "markdown",
   "metadata": {
    "id": "8xZ5aeGW04l2"
   },
   "source": [
    "## Random Forest"
   ]
  },
  {
   "cell_type": "code",
   "execution_count": 72,
   "metadata": {
    "id": "6Q-34AX91MaD"
   },
   "outputs": [],
   "source": [
    "# from sklearn.ensemble import RandomForestClassifier\n",
    "# from sklearn.metrics import precision_score, recall_score, f1_score, confusion_matrix, cohen_kappa_score, matthews_corrcoef\n",
    "\n",
    "# #Define the feature space and the target space\n",
    "# y = df['SeriousDlqin2yrs']\n",
    "# X = df.drop('SeriousDlqin2yrs', axis = 1)\n",
    "# #Split data in X_train, y_train, X_test, and y_test\n",
    "# X_train, X_test, y_train, y_test = train_test_split(X,y ,\n",
    "#                                    random_state=14,\n",
    "#                                    test_size=0.2,\n",
    "#                                    shuffle=True)\n",
    "# # Define the model\n",
    "# rf = RandomForestClassifier()\n",
    "\n",
    "# # Define the hyperparameters to tune\n",
    "# param_grid = {\n",
    "#     'n_estimators': [100, 200, 300, 400, 500],\n",
    "#     'max_depth': [10, 20, 30, 40, 50],\n",
    "#     'min_samples_split': [2, 5, 10],\n",
    "#     'min_samples_leaf': [1, 2, 4],\n",
    "#     'bootstrap': [True]\n",
    "# }\n",
    "\n",
    "# # Define scorer based on AUC\n",
    "# scorer = make_scorer(roc_auc_score, needs_proba=True)\n",
    "\n",
    "# # Initialize RandomizedSearchCV\n",
    "# randomsearch = RandomizedSearchCV(rf, param_grid, scoring=scorer, cv=5, verbose = 2)\n",
    "\n",
    "# # Fit RandomizedSearchCV on training data\n",
    "# randomsearch.fit(X_train, y_train)\n",
    "\n",
    "# # Get the best model\n",
    "# best_model = randomsearch.best_estimator_\n",
    "\n",
    "# # Get the best parameters\n",
    "# best_params = randomsearch.best_params_\n",
    "# print(f\"Best parameters: {best_params}\")\n",
    "\n",
    "\n",
    "# # Fit the model with the best parameters\n",
    "# rf_best = RandomForestClassifier(**best_params)\n",
    "# rf_best.fit(X_train, y_train)\n",
    "\n",
    "# # Make predictions\n",
    "# y_pred = rf_best.predict(X_test)\n",
    "# y_pred_proba = best_model.predict_proba(X_test)[:, 1]\n",
    "\n",
    "# # Evaluate the model\n",
    "# precision = precision_score(y_test, y_pred)\n",
    "# recall = recall_score(y_test, y_pred)\n",
    "# f1 = f1_score(y_test, y_pred)\n",
    "# conf_matrix = confusion_matrix(y_test, y_pred)\n",
    "# kappa = cohen_kappa_score(y_test, y_pred)\n",
    "# mcc = matthews_corrcoef(y_test, y_pred)\n",
    "# auc = roc_auc_score(y_test, y_pred_proba)\n",
    "\n",
    "# print(f\"Precision: {precision}\")\n",
    "# print(f\"Recall: {recall}\")\n",
    "# print(f\"F1 Score: {f1}\")\n",
    "# print(f\"Confusion Matrix: \\n{conf_matrix}\")\n",
    "# print(f\"Cohen's Kappa: {kappa}\")\n",
    "# print(f\"Matthews Correlation Coefficient: {mcc}\")\n",
    "# print(f\"AUC: {auc}\")"
   ]
  },
  {
   "cell_type": "markdown",
   "metadata": {
    "id": "dwOL40ZQeMYx"
   },
   "source": [
    "###XGBoost"
   ]
  },
  {
   "cell_type": "code",
   "execution_count": 73,
   "metadata": {
    "id": "hLiRZADveNoJ"
   },
   "outputs": [],
   "source": [
    "# from xgboost import XGBClassifier\n",
    "\n",
    "# # Define the model\n",
    "# model = XGBClassifier(tree_method='hist', device = 'cuda')\n",
    "\n",
    "# # Define the parameters for the RandomizedSearch\n",
    "# params = {\n",
    "#     'min_child_weight': [1, 5, 10],\n",
    "#     'gamma': [0.5, 1, 1.5, 2, 5],\n",
    "#     'subsample': [0.6, 0.8, 1.0],\n",
    "#     'colsample_bytree': [0.6, 0.8, 1.0],\n",
    "#     'max_depth': [3, 4, 5]\n",
    "# }\n",
    "\n",
    "# random_search = RandomizedSearchCV(model, param_distributions=params, n_iter=5, scoring='roc_auc', n_jobs=-1, cv=5, verbose=2)\n",
    "\n",
    "# # Fit the model to the training data\n",
    "# random_search.fit(X_train, y_train)\n",
    "\n",
    "# # Make predictions\n",
    "# y_pred = random_search.predict(X_test)\n",
    "# y_pred_proba = model.predict_proba(X_test)[:, 1]\n",
    "\n",
    "# # Evaluate the model\n",
    "# precision = precision_score(y_test, y_pred)\n",
    "# recall = recall_score(y_test, y_pred)\n",
    "# f1 = f1_score(y_test, y_pred)\n",
    "# conf_matrix = confusion_matrix(y_test, y_pred)\n",
    "# kappa = cohen_kappa_score(y_test, y_pred)\n",
    "# mcc = matthews_corrcoef(y_test, y_pred)\n",
    "# auc = roc_auc_score(y_test, y_pred_proba)\n",
    "\n",
    "# print(f\"Precision: {precision}\")\n",
    "# print(f\"Recall: {recall}\")\n",
    "# print(f\"F1 Score: {f1}\")\n",
    "# print(f\"Confusion Matrix: \\n{conf_matrix}\")\n",
    "# print(f\"Cohen's Kappa: {kappa}\")\n",
    "# print(f\"Matthews Correlation Coefficient: {mcc}\")\n",
    "# print(f\"AUC: {auc}\")"
   ]
  },
  {
   "cell_type": "markdown",
   "metadata": {
    "id": "RiBOV2GhB-SW"
   },
   "source": [
    "#### We get an AUC score of 0.85 which is amazing!"
   ]
  },
  {
   "cell_type": "code",
   "execution_count": 74,
   "metadata": {
    "colab": {
     "base_uri": "https://localhost:8080/"
    },
    "id": "uQQci-8i4UC2",
    "outputId": "0ac6825b-dcb5-46f7-e23e-717ac4e6c6de"
   },
   "outputs": [
    {
     "name": "stdout",
     "output_type": "stream",
     "text": [
      "Requirement already satisfied: shap in c:\\users\\tanuj\\anaconda3\\lib\\site-packages (0.41.0)\n",
      "Requirement already satisfied: scipy in c:\\users\\tanuj\\anaconda3\\lib\\site-packages (from shap) (1.10.0)\n",
      "Requirement already satisfied: numba in c:\\users\\tanuj\\anaconda3\\lib\\site-packages (from shap) (0.56.4)\n",
      "Requirement already satisfied: numpy in c:\\users\\tanuj\\anaconda3\\lib\\site-packages (from shap) (1.23.5)\n",
      "Requirement already satisfied: scikit-learn in c:\\users\\tanuj\\anaconda3\\lib\\site-packages (from shap) (1.2.1)\n",
      "Requirement already satisfied: tqdm>4.25.0 in c:\\users\\tanuj\\anaconda3\\lib\\site-packages (from shap) (4.64.1)\n",
      "Requirement already satisfied: slicer==0.0.7 in c:\\users\\tanuj\\anaconda3\\lib\\site-packages (from shap) (0.0.7)\n",
      "Requirement already satisfied: pandas in c:\\users\\tanuj\\anaconda3\\lib\\site-packages (from shap) (2.0.3)\n",
      "Requirement already satisfied: cloudpickle in c:\\users\\tanuj\\anaconda3\\lib\\site-packages (from shap) (2.0.0)\n",
      "Requirement already satisfied: packaging>20.9 in c:\\users\\tanuj\\anaconda3\\lib\\site-packages (from shap) (22.0)\n",
      "Requirement already satisfied: colorama in c:\\users\\tanuj\\anaconda3\\lib\\site-packages (from tqdm>4.25.0->shap) (0.4.6)\n",
      "Requirement already satisfied: setuptools in c:\\users\\tanuj\\anaconda3\\lib\\site-packages (from numba->shap) (65.6.3)\n",
      "Requirement already satisfied: llvmlite<0.40,>=0.39.0dev0 in c:\\users\\tanuj\\anaconda3\\lib\\site-packages (from numba->shap) (0.39.1)\n",
      "Requirement already satisfied: pytz>=2020.1 in c:\\users\\tanuj\\anaconda3\\lib\\site-packages (from pandas->shap) (2022.7)\n",
      "Requirement already satisfied: tzdata>=2022.1 in c:\\users\\tanuj\\anaconda3\\lib\\site-packages (from pandas->shap) (2023.3)\n",
      "Requirement already satisfied: python-dateutil>=2.8.2 in c:\\users\\tanuj\\anaconda3\\lib\\site-packages (from pandas->shap) (2.8.2)\n",
      "Requirement already satisfied: threadpoolctl>=2.0.0 in c:\\users\\tanuj\\anaconda3\\lib\\site-packages (from scikit-learn->shap) (2.2.0)\n",
      "Requirement already satisfied: joblib>=1.1.1 in c:\\users\\tanuj\\anaconda3\\lib\\site-packages (from scikit-learn->shap) (1.1.1)\n",
      "Requirement already satisfied: six>=1.5 in c:\\users\\tanuj\\anaconda3\\lib\\site-packages (from python-dateutil>=2.8.2->pandas->shap) (1.16.0)\n",
      "Note: you may need to restart the kernel to use updated packages.\n"
     ]
    },
    {
     "name": "stderr",
     "output_type": "stream",
     "text": [
      "WARNING: Ignoring invalid distribution -illow (c:\\users\\tanuj\\anaconda3\\lib\\site-packages)\n",
      "WARNING: Ignoring invalid distribution -illow (c:\\users\\tanuj\\anaconda3\\lib\\site-packages)\n",
      "WARNING: Ignoring invalid distribution -illow (c:\\users\\tanuj\\anaconda3\\lib\\site-packages)\n",
      "WARNING: Ignoring invalid distribution -illow (c:\\users\\tanuj\\anaconda3\\lib\\site-packages)\n",
      "WARNING: Ignoring invalid distribution -illow (c:\\users\\tanuj\\anaconda3\\lib\\site-packages)\n",
      "WARNING: Ignoring invalid distribution -illow (c:\\users\\tanuj\\anaconda3\\lib\\site-packages)\n"
     ]
    }
   ],
   "source": [
    "#LOOK AT SHAP VALUES\n",
    "%pip install shap"
   ]
  },
  {
   "cell_type": "markdown",
   "metadata": {
    "id": "-iFV1Sy9Pwbu"
   },
   "source": [
    "##Ankur's Workspace\n",
    "\n"
   ]
  },
  {
   "cell_type": "code",
   "execution_count": 75,
   "metadata": {
    "colab": {
     "base_uri": "https://localhost:8080/"
    },
    "id": "CxiYFMnUPnNM",
    "outputId": "80d38b87-06af-4998-cebc-8834b2315c84"
   },
   "outputs": [
    {
     "name": "stdout",
     "output_type": "stream",
     "text": [
      "              precision    recall  f1-score   support\n",
      "\n",
      "           0       0.99      0.94      0.96     33860\n",
      "           1       0.18      0.51      0.27       829\n",
      "\n",
      "    accuracy                           0.93     34689\n",
      "   macro avg       0.58      0.73      0.62     34689\n",
      "weighted avg       0.97      0.93      0.95     34689\n",
      "\n"
     ]
    }
   ],
   "source": [
    "from sklearn.model_selection import train_test_split\n",
    "from sklearn.ensemble import RandomForestClassifier\n",
    "from sklearn import metrics\n",
    "from sklearn.metrics import classification_report\n",
    "from sklearn.metrics import confusion_matrix\n",
    "\n",
    "\n",
    "y = df['SeriousDlqin2yrs']\n",
    "X = df.drop(['SeriousDlqin2yrs','ID','age','NumberOfDependents'], axis = 1)\n",
    "X_train, X_test, y_train, y_test = train_test_split(X, y, test_size=0.3, random_state=1)\n",
    "\n",
    "\n",
    "from sklearn.ensemble import RandomForestClassifier\n",
    "clf = RandomForestClassifier()\n",
    "clf.fit(X_train, y_train)\n",
    "y_pred = clf.predict(X_test)\n",
    "\n",
    "\n",
    "print(classification_report(y_pred, y_test))"
   ]
  },
  {
   "cell_type": "code",
   "execution_count": 76,
   "metadata": {
    "colab": {
     "base_uri": "https://localhost:8080/"
    },
    "id": "PIviAKQelRaS",
    "outputId": "e5770951-5a9b-4500-cdf0-f3e69ad07a99"
   },
   "outputs": [
    {
     "name": "stdout",
     "output_type": "stream",
     "text": [
      "[[31925   404]\n",
      " [ 1935   425]]\n"
     ]
    }
   ],
   "source": [
    "conf_mat = confusion_matrix(y_test, y_pred)\n",
    "print(conf_mat)\n"
   ]
  },
  {
   "cell_type": "code",
   "execution_count": null,
   "metadata": {},
   "outputs": [],
   "source": [
    "import shap\n",
    "explainer = shap.Explainer(clf)\n",
    "shap_values = explainer.shap_values(X_test)"
   ]
  },
  {
   "cell_type": "code",
   "execution_count": null,
   "metadata": {},
   "outputs": [],
   "source": []
  }
 ],
 "metadata": {
  "accelerator": "GPU",
  "colab": {
   "collapsed_sections": [
    "f49lR7q5xZGc",
    "i0euzEk_Ftcz",
    "IcLD8KadHTJ0",
    "7ni5RKgNHvh4",
    "2Q_BU3nByuSC",
    "EjYZo0Xwx7ud",
    "NkoE1XQdvziU",
    "V7BVKCIfsZtJ",
    "s3Efb_yysjeA",
    "-4QqjlYzssk9",
    "rF6MAYFvtJLl",
    "6xMT0itPtO5b",
    "lkvuD215tSjk"
   ],
   "gpuType": "T4",
   "provenance": []
  },
  "kernelspec": {
   "display_name": "Python 3 (ipykernel)",
   "language": "python",
   "name": "python3"
  },
  "language_info": {
   "codemirror_mode": {
    "name": "ipython",
    "version": 3
   },
   "file_extension": ".py",
   "mimetype": "text/x-python",
   "name": "python",
   "nbconvert_exporter": "python",
   "pygments_lexer": "ipython3",
   "version": "3.10.9"
  }
 },
 "nbformat": 4,
 "nbformat_minor": 1
}
